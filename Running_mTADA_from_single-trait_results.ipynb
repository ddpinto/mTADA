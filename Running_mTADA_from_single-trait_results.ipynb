{
 "cells": [
  {
   "cell_type": "markdown",
   "metadata": {},
   "source": [
    "# This notebook descibes steps used to run mTADA\n"
   ]
  },
  {
   "cell_type": "markdown",
   "metadata": {},
   "source": [
    "## Load the source code"
   ]
  },
  {
   "cell_type": "code",
   "execution_count": 1,
   "metadata": {
    "collapsed": false
   },
   "outputs": [
    {
     "name": "stderr",
     "output_type": "stream",
     "text": [
      "locfit 1.5-9.1 \t 2013-03-22\n"
     ]
    }
   ],
   "source": [
    "dirSourceFile <- \"./script/\"\n",
    "rFile <- dir(dirSourceFile, \".R$\")\n",
    "for (ir in 1:length(rFile)){\n",
    "    source(paste0(dirSourceFile, rFile[ir]))\n",
    "}\n",
    "\n",
    "\n",
    "\n"
   ]
  },
  {
   "cell_type": "markdown",
   "metadata": {},
   "source": [
    "## Read the data and set parameters for each trait"
   ]
  },
  {
   "cell_type": "code",
   "execution_count": 3,
   "metadata": {
    "collapsed": false
   },
   "outputs": [],
   "source": [
    "data <- read.table(\"data/FullDataSet_DenovoMutations_for_mTADA.txt\", header = TRUE)\n",
    "disease1 = \"ASD\"\n",
    "ntrio1 = 5122 #family numbers\n",
    "p1 = 0.06421404 #The proportion of risk genes \n",
    "meanGamma1 = c(15.180775,  5.906302) #Mean Gamma of two categories\n",
    "beta1 = c(0.8468835, 1.0148949) #Beta values inside the distribution RR ~ Gamma(meanRR*beta, beta)\n",
    "dataT1 <- data[, paste0(c(\"dn_damaging_\", \"dn_lof_\"), disease1)] #De novo data\n",
    "muDataT1 <- data[, c(\"mut_damaging\", \"mut_lof\")] #Mutation data of the first trait\n",
    "\n",
    "disease2 = \"DD\"\n",
    "ntrio2 = 4293\n",
    "p2 = 0.03677801\n",
    "meanGamma2 = c(50.59194830, 29.25214851)\n",
    "beta2 = c(0.80995072, 0.81765175)\n",
    "dataT2 <- data[, paste0(c(\"dn_damaging_\", \"dn_lof_\"), disease2)]\n",
    "muDataT2 <- muDataT1\n",
    "\n"
   ]
  },
  {
   "cell_type": "markdown",
   "metadata": {},
   "source": [
    "## Run mTADA"
   ]
  },
  {
   "cell_type": "code",
   "execution_count": 4,
   "metadata": {
    "collapsed": false
   },
   "outputs": [
    {
     "name": "stderr",
     "output_type": "stream",
     "text": [
      "Loading required package: ggplot2\n",
      "Loading required package: StanHeaders\n",
      "rstan (Version 2.13.2, packaged: 2016-12-18 07:04:42 UTC, GitRev: 5fa1e80eb817)\n",
      "For execution on a local, multicore CPU with excess RAM we recommend calling\n",
      "rstan_options(auto_write = TRUE)\n",
      "options(mc.cores = parallel::detectCores())\n",
      "===================\n",
      "Building the model\n",
      "=================\n",
      "\n"
     ]
    },
    {
     "name": "stdout",
     "output_type": "stream",
     "text": [
      "In file included from file55e1e07bc7e.cpp:8:\n",
      "In file included from /Users/hoangnguyen/anaconda2/lib/R/library/StanHeaders/include/src/stan/model/model_header.hpp:4:\n",
      "In file included from /Users/hoangnguyen/anaconda2/lib/R/library/StanHeaders/include/stan/math.hpp:4:\n",
      "In file included from /Users/hoangnguyen/anaconda2/lib/R/library/StanHeaders/include/stan/math/rev/mat.hpp:4:\n",
      "In file included from /Users/hoangnguyen/anaconda2/lib/R/library/StanHeaders/include/stan/math/rev/core.hpp:12:\n",
      "In file included from /Users/hoangnguyen/anaconda2/lib/R/library/StanHeaders/include/stan/math/rev/core/gevv_vvv_vari.hpp:5:\n",
      "In file included from /Users/hoangnguyen/anaconda2/lib/R/library/StanHeaders/include/stan/math/rev/core/var.hpp:7:\n",
      "In file included from /Users/hoangnguyen/anaconda2/lib/R/library/BH/include/boost/math/tools/config.hpp:13:\n",
      "In file included from /Users/hoangnguyen/anaconda2/lib/R/library/BH/include/boost/config.hpp:39:\n",
      "/Users/hoangnguyen/anaconda2/lib/R/library/BH/include/boost/config/compiler/clang.hpp:196:11: warning: 'BOOST_NO_CXX11_RVALUE_REFERENCES' macro redefined [-Wmacro-redefined]\n",
      "#  define BOOST_NO_CXX11_RVALUE_REFERENCES\n",
      "          ^\n",
      "<command line>:6:9: note: previous definition is here\n",
      "#define BOOST_NO_CXX11_RVALUE_REFERENCES 1\n",
      "        ^\n",
      "1 warning generated.\n"
     ]
    },
    {
     "name": "stderr",
     "output_type": "stream",
     "text": [
      "===================\n",
      "Running VB\n",
      "========================\n",
      "\n",
      "\n",
      "=======Not use MCMC===========\n",
      "\n"
     ]
    },
    {
     "name": "stdout",
     "output_type": "stream",
     "text": [
      "\n",
      "This is Automatic Differentiation Variational Inference.\n",
      "\n",
      "(EXPERIMENTAL ALGORITHM: expect frequent updates to the procedure.)\n",
      "\n",
      "Gradient evaluation took 0.170534 seconds\n",
      "1000 iterations under these settings should take 170.534 seconds.\n",
      "Adjust your expectations accordingly!\n",
      "\n",
      "Begin eta adaptation.\n",
      "Iteration:   1 / 250 [  0%]  (Adaptation)\n",
      "Iteration:  50 / 250 [ 20%]  (Adaptation)\n",
      "Iteration: 100 / 250 [ 40%]  (Adaptation)\n",
      "Iteration: 150 / 250 [ 60%]  (Adaptation)\n",
      "Iteration: 200 / 250 [ 80%]  (Adaptation)\n",
      "Success! Found best value [eta = 1] earlier than expected.\n",
      "\n",
      "Begin stochastic gradient ascent.\n",
      "  iter       ELBO   delta_ELBO_mean   delta_ELBO_med   notes \n",
      "   100     -1e+04             1.000            1.000\n",
      "   200     -1e+04             0.500            1.000\n",
      "   300     -1e+04             0.000            0.000   MEAN ELBO CONVERGED   MEDIAN ELBO CONVERGED\n",
      "\n",
      "Drawing a sample of size 1000 from the approximate posterior... \n",
      "COMPLETED.\n"
     ]
    },
    {
     "name": "stderr",
     "output_type": "stream",
     "text": [
      "====\n",
      "Only pi, alpha and hyper parameters are estimated in this step\n",
      "gTADA does not calculate HPDs for hyper betas, just their medians\n",
      "===\n",
      "\n",
      "Estimating for p12\n",
      "Estimating for gammaMeanDN1[1]\n"
     ]
    },
    {
     "name": "stdout",
     "output_type": "stream",
     "text": [
      "                     Mode       lCI       uCI\n",
      "p12             0.0258804 0.0207502 0.0305515\n",
      "gammaMeanDN1[1] 3.9377900 3.3443200 4.8067700\n"
     ]
    },
    {
     "name": "stderr",
     "output_type": "stream",
     "text": [
      "\n",
      "Mean gammas and betas have different dimension\n",
      "\n"
     ]
    },
    {
     "name": "stdout",
     "output_type": "stream",
     "text": [
      "         [,1]     [,2]     [,3]     [,4]\n",
      "[1,]  1.00000 1.000000  1.00000  1.00000\n",
      "[2,] 15.18078 5.906302 50.59195 29.25215\n",
      "[3,] 15.18078 5.906302  1.00000  1.00000\n",
      "[4,]  1.00000 1.000000 50.59195 29.25215\n",
      "     [,1] [,2] [,3] [,4]\n",
      "[1,]    1    1    1    1\n",
      "[2,]    1    1    1    1\n",
      "[3,]    1    1    1    1\n",
      "[4,]    1    1    1    1\n"
     ]
    },
    {
     "name": "stderr",
     "output_type": "stream",
     "text": [
      "j = 1\n"
     ]
    },
    {
     "name": "stdout",
     "output_type": "stream",
     "text": [
      "[1] 1\n"
     ]
    },
    {
     "name": "stderr",
     "output_type": "stream",
     "text": [
      "j = 2\n"
     ]
    },
    {
     "name": "stdout",
     "output_type": "stream",
     "text": [
      "[1] 2\n"
     ]
    },
    {
     "name": "stderr",
     "output_type": "stream",
     "text": [
      "j = 3\n"
     ]
    },
    {
     "name": "stdout",
     "output_type": "stream",
     "text": [
      "[1] 3\n"
     ]
    },
    {
     "name": "stderr",
     "output_type": "stream",
     "text": [
      "j = 4\n"
     ]
    },
    {
     "name": "stdout",
     "output_type": "stream",
     "text": [
      "[1] 4\n"
     ]
    }
   ],
   "source": [
    "nIteration = 2000\n",
    "outSample = 1000\n",
    "seed0 = 12345\n",
    "mTADAresults <- mTADA(geneName = data[, 1],\n",
    "                  ntrio1 = ntrio1,\n",
    "                  ntrio2 = ntrio2,\n",
    "                  p1 = p1,\n",
    "                  p2 = p2,\n",
    "                  dataDN1 = data.frame(dataT1),\n",
    "                  dataDN2 = data.frame(dataT2),\n",
    "                  mutRate1 = data.frame(muDataT1),\n",
    "                  mutRate2 = data.frame(muDataT2),                  \n",
    "                  hyperGammaMeanDN1 = c(meanGamma1),\n",
    "                  hyperGammaMeanDN2 = c(meanGamma2),\n",
    "                  hyperBetaDN01 = beta1, #NULL, #array(c(1, 1)),\n",
    "                  hyperBetaDN02 = beta2, #NULL, #array(c(1, 1)),\n",
    "                  nIteration = nIteration,\n",
    "                  useMCMC = FALSE,\n",
    "###The parameters below should be default\n",
    "                  outSample = outSample,\n",
    "                       adjustHyperBeta = 0, #adjustHyperBeta0,\n",
    "                        betaPars = c(6.7771073, -1.7950864, -0.2168248),\n",
    "                        upperPi0 = 0.5, lowerPi0 = 0,\n",
    "                        lowerHyperGamma = 1,\n",
    "                        lowerGamma = 1,\n",
    "                        lowerBeta = 1,\n",
    "                  nChain = 1, iSeed = seed0)\n",
    "\n",
    "\n"
   ]
  },
  {
   "cell_type": "markdown",
   "metadata": {},
   "source": [
    "## Test results"
   ]
  },
  {
   "cell_type": "code",
   "execution_count": 6,
   "metadata": {
    "collapsed": false
   },
   "outputs": [
    {
     "data": {
      "text/html": [
       "<dl class=dl-horizontal>\n",
       "\t<dt>pNO</dt>\n",
       "\t\t<dd>0.92488835</dd>\n",
       "\t<dt>pFIRST</dt>\n",
       "\t\t<dd>0.03833364</dd>\n",
       "\t<dt>pSECOND</dt>\n",
       "\t\t<dd>0.01089761</dd>\n",
       "\t<dt>pBOTH</dt>\n",
       "\t\t<dd>0.0258804</dd>\n",
       "</dl>\n"
      ],
      "text/latex": [
       "\\begin{description*}\n",
       "\\item[pNO] 0.92488835\n",
       "\\item[pFIRST] 0.03833364\n",
       "\\item[pSECOND] 0.01089761\n",
       "\\item[pBOTH] 0.0258804\n",
       "\\end{description*}\n"
      ],
      "text/markdown": [
       "pNO\n",
       ":   0.92488835pFIRST\n",
       ":   0.03833364pSECOND\n",
       ":   0.01089761pBOTH\n",
       ":   0.0258804\n",
       "\n"
      ],
      "text/plain": [
       "       pNO     pFIRST    pSECOND      pBOTH \n",
       "0.92488835 0.03833364 0.01089761 0.02588040 "
      ]
     },
     "metadata": {},
     "output_type": "display_data"
    },
    {
     "data": {
      "text/html": [
       "<table>\n",
       "<thead><tr><th></th><th scope=col>Mode</th><th scope=col>lCI</th><th scope=col>uCI</th></tr></thead>\n",
       "<tbody>\n",
       "\t<tr><th scope=row>p12</th><td>0.0258804</td><td>0.0207502</td><td>0.0305515</td></tr>\n",
       "\t<tr><th scope=row>gammaMeanDN1[1]</th><td>3.9377900</td><td>3.3443200</td><td>4.8067700</td></tr>\n",
       "</tbody>\n",
       "</table>\n"
      ],
      "text/latex": [
       "\\begin{tabular}{r|lll}\n",
       "  & Mode & lCI & uCI\\\\\n",
       "\\hline\n",
       "\tp12 & 0.0258804 & 0.0207502 & 0.0305515\\\\\n",
       "\tgammaMeanDN1{[}1{]} & 3.9377900 & 3.3443200 & 4.8067700\\\\\n",
       "\\end{tabular}\n"
      ],
      "text/markdown": [
       "\n",
       "| <!--/--> | Mode | lCI | uCI | \n",
       "|---|---|\n",
       "| p12 | 0.0258804 | 0.0207502 | 0.0305515 | \n",
       "| gammaMeanDN1[1] | 3.9377900 | 3.3443200 | 4.8067700 | \n",
       "\n",
       "\n"
      ],
      "text/plain": [
       "                Mode      lCI       uCI      \n",
       "p12             0.0258804 0.0207502 0.0305515\n",
       "gammaMeanDN1[1] 3.9377900 3.3443200 4.8067700"
      ]
     },
     "metadata": {},
     "output_type": "display_data"
    },
    {
     "data": {
      "text/html": [
       "<table>\n",
       "<thead><tr><th scope=col>geneName</th><th scope=col>dn_damaging_ASD</th><th scope=col>dn_lof_ASD</th><th scope=col>dn_damaging_DD</th><th scope=col>dn_lof_DD</th><th scope=col>NO</th><th scope=col>BOTH</th><th scope=col>FIRST</th><th scope=col>SECOND</th></tr></thead>\n",
       "<tbody>\n",
       "\t<tr><td>A1BG        </td><td>0           </td><td>0           </td><td>0           </td><td>0           </td><td>0.9427816   </td><td>0.015218928 </td><td>0.03480485  </td><td>0.0071945958</td></tr>\n",
       "\t<tr><td>A1BG-AS1    </td><td>0           </td><td>0           </td><td>0           </td><td>0           </td><td>0.9264611   </td><td>0.024867378 </td><td>0.03812532  </td><td>0.0105461693</td></tr>\n",
       "\t<tr><td>A1CF        </td><td>0           </td><td>0           </td><td>0           </td><td>0           </td><td>0.9736088   </td><td>0.002221771 </td><td>0.02249085  </td><td>0.0016785292</td></tr>\n",
       "\t<tr><td>A2M         </td><td>0           </td><td>0           </td><td>0           </td><td>0           </td><td>0.9883723   </td><td>0.000118157 </td><td>0.01132969  </td><td>0.0001798924</td></tr>\n",
       "\t<tr><td>A2M-AS1     </td><td>0           </td><td>0           </td><td>0           </td><td>0           </td><td>0.9259078   </td><td>0.025222951 </td><td>0.03819939  </td><td>0.0106698469</td></tr>\n",
       "\t<tr><td>A2ML1       </td><td>1           </td><td>0           </td><td>0           </td><td>0           </td><td>0.7315996   </td><td>0.020378160 </td><td>0.24696875  </td><td>0.0010535312</td></tr>\n",
       "</tbody>\n",
       "</table>\n"
      ],
      "text/latex": [
       "\\begin{tabular}{r|lllllllll}\n",
       " geneName & dn\\_damaging\\_ASD & dn\\_lof\\_ASD & dn\\_damaging\\_DD & dn\\_lof\\_DD & NO & BOTH & FIRST & SECOND\\\\\n",
       "\\hline\n",
       "\t A1BG         & 0            & 0            & 0            & 0            & 0.9427816    & 0.015218928  & 0.03480485   & 0.0071945958\\\\\n",
       "\t A1BG-AS1     & 0            & 0            & 0            & 0            & 0.9264611    & 0.024867378  & 0.03812532   & 0.0105461693\\\\\n",
       "\t A1CF         & 0            & 0            & 0            & 0            & 0.9736088    & 0.002221771  & 0.02249085   & 0.0016785292\\\\\n",
       "\t A2M          & 0            & 0            & 0            & 0            & 0.9883723    & 0.000118157  & 0.01132969   & 0.0001798924\\\\\n",
       "\t A2M-AS1      & 0            & 0            & 0            & 0            & 0.9259078    & 0.025222951  & 0.03819939   & 0.0106698469\\\\\n",
       "\t A2ML1        & 1            & 0            & 0            & 0            & 0.7315996    & 0.020378160  & 0.24696875   & 0.0010535312\\\\\n",
       "\\end{tabular}\n"
      ],
      "text/markdown": [
       "\n",
       "geneName | dn_damaging_ASD | dn_lof_ASD | dn_damaging_DD | dn_lof_DD | NO | BOTH | FIRST | SECOND | \n",
       "|---|---|---|---|---|---|\n",
       "| A1BG         | 0            | 0            | 0            | 0            | 0.9427816    | 0.015218928  | 0.03480485   | 0.0071945958 | \n",
       "| A1BG-AS1     | 0            | 0            | 0            | 0            | 0.9264611    | 0.024867378  | 0.03812532   | 0.0105461693 | \n",
       "| A1CF         | 0            | 0            | 0            | 0            | 0.9736088    | 0.002221771  | 0.02249085   | 0.0016785292 | \n",
       "| A2M          | 0            | 0            | 0            | 0            | 0.9883723    | 0.000118157  | 0.01132969   | 0.0001798924 | \n",
       "| A2M-AS1      | 0            | 0            | 0            | 0            | 0.9259078    | 0.025222951  | 0.03819939   | 0.0106698469 | \n",
       "| A2ML1        | 1            | 0            | 0            | 0            | 0.7315996    | 0.020378160  | 0.24696875   | 0.0010535312 | \n",
       "\n",
       "\n"
      ],
      "text/plain": [
       "  geneName dn_damaging_ASD dn_lof_ASD dn_damaging_DD dn_lof_DD NO       \n",
       "1 A1BG     0               0          0              0         0.9427816\n",
       "2 A1BG-AS1 0               0          0              0         0.9264611\n",
       "3 A1CF     0               0          0              0         0.9736088\n",
       "4 A2M      0               0          0              0         0.9883723\n",
       "5 A2M-AS1  0               0          0              0         0.9259078\n",
       "6 A2ML1    1               0          0              0         0.7315996\n",
       "  BOTH        FIRST      SECOND      \n",
       "1 0.015218928 0.03480485 0.0071945958\n",
       "2 0.024867378 0.03812532 0.0105461693\n",
       "3 0.002221771 0.02249085 0.0016785292\n",
       "4 0.000118157 0.01132969 0.0001798924\n",
       "5 0.025222951 0.03819939 0.0106698469\n",
       "6 0.020378160 0.24696875 0.0010535312"
      ]
     },
     "metadata": {},
     "output_type": "display_data"
    },
    {
     "data": {
      "text/html": [
       "<table>\n",
       "<thead><tr><th scope=col>geneName</th><th scope=col>dn_damaging_ASD</th><th scope=col>dn_lof_ASD</th><th scope=col>dn_damaging_DD</th><th scope=col>dn_lof_DD</th><th scope=col>NO</th><th scope=col>BOTH</th><th scope=col>FIRST</th><th scope=col>SECOND</th></tr></thead>\n",
       "<tbody>\n",
       "</tbody>\n",
       "</table>\n"
      ],
      "text/latex": [
       "\\begin{tabular}{r|lllllllll}\n",
       " geneName & dn\\_damaging\\_ASD & dn\\_lof\\_ASD & dn\\_damaging\\_DD & dn\\_lof\\_DD & NO & BOTH & FIRST & SECOND\\\\\n",
       "\\hline\n",
       "\\end{tabular}\n"
      ],
      "text/markdown": [
       "\n",
       "geneName | dn_damaging_ASD | dn_lof_ASD | dn_damaging_DD | dn_lof_DD | NO | BOTH | FIRST | SECOND | \n",
       "||\n",
       "\n",
       "\n"
      ],
      "text/plain": [
       "     geneName dn_damaging_ASD dn_lof_ASD dn_damaging_DD dn_lof_DD NO BOTH FIRST\n",
       "     SECOND"
      ]
     },
     "metadata": {},
     "output_type": "display_data"
    },
    {
     "data": {
      "text/html": [
       "<table>\n",
       "<thead><tr><th></th><th scope=col>geneName</th><th scope=col>dn_damaging_ASD</th><th scope=col>dn_lof_ASD</th><th scope=col>dn_damaging_DD</th><th scope=col>dn_lof_DD</th><th scope=col>NO</th><th scope=col>BOTH</th><th scope=col>FIRST</th><th scope=col>SECOND</th></tr></thead>\n",
       "<tbody>\n",
       "\t<tr><th scope=row>347</th><td>ADNP        </td><td>0           </td><td>5           </td><td>1           </td><td>19          </td><td>2.711705e-34</td><td>0.9999747   </td><td>1.871526e-31</td><td>2.528637e-05</td></tr>\n",
       "\t<tr><th scope=row>447</th><td>AHDC1       </td><td>0           </td><td>1           </td><td>0           </td><td> 8          </td><td>1.083877e-11</td><td>0.9235181   </td><td>2.284114e-12</td><td>7.648190e-02</td></tr>\n",
       "\t<tr><th scope=row>681</th><td>ANKRD11     </td><td>0           </td><td>2           </td><td>0           </td><td>32          </td><td>1.863055e-49</td><td>0.9369696   </td><td>4.833391e-50</td><td>6.303042e-02</td></tr>\n",
       "\t<tr><th scope=row>1001</th><td>ARID1B      </td><td>0           </td><td>7           </td><td>0           </td><td>30          </td><td>3.739192e-51</td><td>0.9999992   </td><td>8.530963e-47</td><td>7.649453e-07</td></tr>\n",
       "\t<tr><th scope=row>1002</th><td>ARID2       </td><td>1           </td><td>0           </td><td>0           </td><td> 3          </td><td>3.990349e-03</td><td>0.9307097   </td><td>1.008140e-03</td><td>6.429179e-02</td></tr>\n",
       "\t<tr><th scope=row>1124</th><td>ASH1L       </td><td>0           </td><td>3           </td><td>0           </td><td> 2          </td><td>4.536432e-02</td><td>0.8148009   </td><td>1.350584e-01</td><td>4.776340e-03</td></tr>\n",
       "\t<tr><th scope=row>1155</th><td>ASXL3       </td><td>0           </td><td>2           </td><td>0           </td><td>14          </td><td>9.559324e-22</td><td>0.9863720   </td><td>1.207497e-21</td><td>1.362802e-02</td></tr>\n",
       "\t<tr><th scope=row>1450</th><td>BCL11A      </td><td>0           </td><td>2           </td><td>2           </td><td> 3          </td><td>3.277679e-07</td><td>0.9775661   </td><td>2.492695e-07</td><td>2.243337e-02</td></tr>\n",
       "\t<tr><th scope=row>2418</th><td>CAMK2A      </td><td>1           </td><td>0           </td><td>1           </td><td> 1          </td><td>2.098198e-02</td><td>0.9232700   </td><td>6.924660e-03</td><td>4.882338e-02</td></tr>\n",
       "\t<tr><th scope=row>3201</th><td>CHD2        </td><td>0           </td><td>5           </td><td>0           </td><td> 6          </td><td>1.143378e-11</td><td>0.9999739   </td><td>7.642540e-09</td><td>2.610909e-05</td></tr>\n",
       "\t<tr><th scope=row>3206</th><td>CHD7        </td><td>1           </td><td>1           </td><td>2           </td><td> 2          </td><td>1.566241e-02</td><td>0.9109166   </td><td>3.564352e-03</td><td>6.985664e-02</td></tr>\n",
       "\t<tr><th scope=row>3516</th><td>CNOT3       </td><td>0           </td><td>2           </td><td>2           </td><td> 2          </td><td>3.078139e-05</td><td>0.9708761   </td><td>1.793830e-05</td><td>2.907515e-02</td></tr>\n",
       "\t<tr><th scope=row>3924</th><td>CTCF        </td><td>0           </td><td>1           </td><td>5           </td><td> 0          </td><td>2.654260e-07</td><td>0.8756509   </td><td>3.261999e-08</td><td>1.243488e-01</td></tr>\n",
       "\t<tr><th scope=row>3942</th><td>CTNNB1      </td><td>0           </td><td>1           </td><td>0           </td><td>11          </td><td>3.696662e-15</td><td>0.8487251   </td><td>3.619604e-16</td><td>1.512749e-01</td></tr>\n",
       "\t<tr><th scope=row>4069</th><td>CYP27C1     </td><td>0           </td><td>1           </td><td>2           </td><td> 0          </td><td>1.795300e-02</td><td>0.8742851   </td><td>2.604972e-03</td><td>1.051570e-01</td></tr>\n",
       "\t<tr><th scope=row>4296</th><td>DEAF1       </td><td>2           </td><td>0           </td><td>1           </td><td> 0          </td><td>1.695720e-02</td><td>0.8744409   </td><td>1.061643e-01</td><td>2.437570e-03</td></tr>\n",
       "\t<tr><th scope=row>4632</th><td>DNMT3A      </td><td>0           </td><td>1           </td><td>4           </td><td> 1          </td><td>3.193206e-06</td><td>0.8176229   </td><td>2.498440e-07</td><td>1.823737e-01</td></tr>\n",
       "\t<tr><th scope=row>4832</th><td>DYRK1A      </td><td>0           </td><td>4           </td><td>4           </td><td>14          </td><td>1.281357e-29</td><td>0.9996618   </td><td>6.610182e-28</td><td>3.381902e-04</td></tr>\n",
       "\t<tr><th scope=row>6120</th><td>FOXP1       </td><td>0           </td><td>2           </td><td>4           </td><td> 8          </td><td>7.635790e-18</td><td>0.9727263   </td><td>4.752815e-18</td><td>2.727374e-02</td></tr>\n",
       "\t<tr><th scope=row>6265</th><td>GABRB3      </td><td>1           </td><td>1           </td><td>2           </td><td> 0          </td><td>3.310877e-03</td><td>0.9810210   </td><td>5.669172e-03</td><td>9.998913e-03</td></tr>\n",
       "\t<tr><th scope=row>6606</th><td>GNAI1       </td><td>1           </td><td>0           </td><td>5           </td><td> 0          </td><td>5.209674e-08</td><td>0.9547618   </td><td>1.918899e-08</td><td>4.523812e-02</td></tr>\n",
       "\t<tr><th scope=row>7165</th><td>HECW2       </td><td>2           </td><td>0           </td><td>5           </td><td> 1          </td><td>4.161778e-08</td><td>0.9877118   </td><td>5.838160e-08</td><td>1.228808e-02</td></tr>\n",
       "\t<tr><th scope=row>8283</th><td>KCNQ2       </td><td>0           </td><td>1           </td><td>9           </td><td> 0          </td><td>1.729088e-13</td><td>0.8237409   </td><td>1.410286e-14</td><td>1.762591e-01</td></tr>\n",
       "\t<tr><th scope=row>8284</th><td>KCNQ3       </td><td>1           </td><td>0           </td><td>3           </td><td> 0          </td><td>8.097909e-04</td><td>0.9323534   </td><td>1.977314e-04</td><td>6.663906e-02</td></tr>\n",
       "\t<tr><th scope=row>8336</th><td>KDM5B       </td><td>3           </td><td>3           </td><td>0           </td><td> 3          </td><td>1.192815e-05</td><td>0.9520067   </td><td>4.797721e-02</td><td>4.130752e-06</td></tr>\n",
       "\t<tr><th scope=row>8839</th><td>LARP4B      </td><td>0           </td><td>1           </td><td>0           </td><td> 2          </td><td>3.282100e-02</td><td>0.8701354   </td><td>5.441040e-03</td><td>9.160259e-02</td></tr>\n",
       "\t<tr><th scope=row>8929</th><td>LEO1        </td><td>0           </td><td>1           </td><td>1           </td><td> 1          </td><td>2.270429e-02</td><td>0.8777366   </td><td>3.625365e-03</td><td>9.593375e-02</td></tr>\n",
       "\t<tr><th scope=row>9618</th><td>LZTR1       </td><td>1           </td><td>0           </td><td>2           </td><td> 1          </td><td>7.563450e-03</td><td>0.8920486   </td><td>1.186980e-03</td><td>9.920099e-02</td></tr>\n",
       "\t<tr><th scope=row>9700</th><td>MAP2K1      </td><td>1           </td><td>0           </td><td>3           </td><td> 0          </td><td>9.824517e-05</td><td>0.9588482   </td><td>4.008535e-05</td><td>4.101346e-02</td></tr>\n",
       "\t<tr><th scope=row>9821</th><td>MBD5        </td><td>0           </td><td>2           </td><td>0           </td><td> 3          </td><td>1.358677e-04</td><td>0.9854554   </td><td>1.640404e-04</td><td>1.424471e-02</td></tr>\n",
       "\t<tr><th scope=row>⋮</th><td>⋮</td><td>⋮</td><td>⋮</td><td>⋮</td><td>⋮</td><td>⋮</td><td>⋮</td><td>⋮</td><td>⋮</td></tr>\n",
       "\t<tr><th scope=row>11282</th><td>NSD1        </td><td>1           </td><td>0           </td><td> 1          </td><td> 7          </td><td>2.669076e-09</td><td>0.8578650   </td><td>2.811446e-10</td><td>1.421350e-01</td></tr>\n",
       "\t<tr><th scope=row>12129</th><td>PBX1        </td><td>0           </td><td>1           </td><td> 2          </td><td> 0          </td><td>4.753259e-02</td><td>0.8205201   </td><td>5.377776e-03</td><td>1.265695e-01</td></tr>\n",
       "\t<tr><th scope=row>12831</th><td>POGZ        </td><td>0           </td><td>3           </td><td> 0          </td><td> 6          </td><td>1.096951e-09</td><td>0.9977785   </td><td>8.598641e-09</td><td>2.221482e-03</td></tr>\n",
       "\t<tr><th scope=row>12994</th><td>PPM1D       </td><td>0           </td><td>1           </td><td> 0          </td><td> 5          </td><td>2.704755e-06</td><td>0.8812512   </td><td>3.503164e-07</td><td>1.187458e-01</td></tr>\n",
       "\t<tr><th scope=row>13062</th><td>PPP2R5D     </td><td>0           </td><td>1           </td><td>12          </td><td> 0          </td><td>1.171822e-18</td><td>0.8159501   </td><td>9.066516e-20</td><td>1.840499e-01</td></tr>\n",
       "\t<tr><th scope=row>13193</th><td>PRKD1       </td><td>1           </td><td>0           </td><td> 3          </td><td> 0          </td><td>1.510030e-03</td><td>0.9204537   </td><td>3.120919e-04</td><td>7.772416e-02</td></tr>\n",
       "\t<tr><th scope=row>13440</th><td>PTEN        </td><td>5           </td><td>2           </td><td> 1          </td><td> 1          </td><td>2.420317e-09</td><td>0.9964448   </td><td>3.555206e-03</td><td>1.183891e-08</td></tr>\n",
       "\t<tr><th scope=row>13488</th><td>PTPN11      </td><td>1           </td><td>0           </td><td> 2          </td><td> 0          </td><td>1.821747e-02</td><td>0.9221092   </td><td>5.401952e-03</td><td>5.427137e-02</td></tr>\n",
       "\t<tr><th scope=row>13538</th><td>PUF60       </td><td>1           </td><td>0           </td><td> 0          </td><td> 3          </td><td>1.121591e-03</td><td>0.9479203   </td><td>3.667589e-04</td><td>5.059139e-02</td></tr>\n",
       "\t<tr><th scope=row>13599</th><td>QRICH1      </td><td>0           </td><td>1           </td><td> 0          </td><td> 3          </td><td>9.934629e-04</td><td>0.9058603   </td><td>1.689223e-04</td><td>9.297727e-02</td></tr>\n",
       "\t<tr><th scope=row>14673</th><td>SCN2A       </td><td>5           </td><td>6           </td><td> 9          </td><td> 4          </td><td>2.073893e-25</td><td>1.0000000   </td><td>4.445775e-17</td><td>8.141229e-11</td></tr>\n",
       "\t<tr><th scope=row>14894</th><td>SETD2       </td><td>0           </td><td>2           </td><td> 1          </td><td> 2          </td><td>2.748123e-03</td><td>0.9637474   </td><td>1.441612e-03</td><td>3.206284e-02</td></tr>\n",
       "\t<tr><th scope=row>14897</th><td>SETD5       </td><td>0           </td><td>1           </td><td> 2          </td><td>14          </td><td>5.252090e-23</td><td>0.8323054   </td><td>4.549322e-24</td><td>1.676946e-01</td></tr>\n",
       "\t<tr><th scope=row>15010</th><td>SHANK3      </td><td>0           </td><td>3           </td><td> 0          </td><td> 3          </td><td>1.228329e-05</td><td>0.9981720   </td><td>1.266848e-04</td><td>1.689066e-03</td></tr>\n",
       "\t<tr><th scope=row>15440</th><td>SLC6A1      </td><td>2           </td><td>0           </td><td> 6          </td><td> 2          </td><td>3.919970e-13</td><td>0.9954636   </td><td>1.501215e-12</td><td>4.536449e-03</td></tr>\n",
       "\t<tr><th scope=row>15887</th><td>SPEN        </td><td>0           </td><td>1           </td><td> 0          </td><td> 2          </td><td>6.266611e-02</td><td>0.8343849   </td><td>9.796109e-03</td><td>9.315293e-02</td></tr>\n",
       "\t<tr><th scope=row>16019</th><td>SRRM2       </td><td>0           </td><td>1           </td><td> 0          </td><td> 2          </td><td>6.382577e-02</td><td>0.8328995   </td><td>9.940252e-03</td><td>9.333452e-02</td></tr>\n",
       "\t<tr><th scope=row>16129</th><td>STARD9      </td><td>0           </td><td>1           </td><td> 0          </td><td> 2          </td><td>8.425773e-02</td><td>0.8075353   </td><td>1.239357e-02</td><td>9.581336e-02</td></tr>\n",
       "\t<tr><th scope=row>16228</th><td>STXBP1      </td><td>1           </td><td>1           </td><td> 6          </td><td> 5          </td><td>1.201722e-16</td><td>0.9837803   </td><td>1.272067e-16</td><td>1.621972e-02</td></tr>\n",
       "\t<tr><th scope=row>16297</th><td>SUV420H1    </td><td>0           </td><td>3           </td><td> 0          </td><td> 2          </td><td>9.379336e-04</td><td>0.9893394   </td><td>7.588574e-03</td><td>2.134068e-03</td></tr>\n",
       "\t<tr><th scope=row>16337</th><td>SYNGAP1     </td><td>1           </td><td>7           </td><td> 0          </td><td>13          </td><td>6.957234e-24</td><td>1.0000000   </td><td>2.440237e-18</td><td>4.975717e-08</td></tr>\n",
       "\t<tr><th scope=row>16357</th><td>SYT1        </td><td>1           </td><td>0           </td><td> 2          </td><td> 0          </td><td>5.504916e-03</td><td>0.9508632   </td><td>2.205157e-03</td><td>4.142668e-02</td></tr>\n",
       "\t<tr><th scope=row>16537</th><td>TBL1XR1     </td><td>1           </td><td>1           </td><td> 2          </td><td> 4          </td><td>1.268707e-09</td><td>0.9924720   </td><td>2.919117e-09</td><td>7.527991e-03</td></tr>\n",
       "\t<tr><th scope=row>16587</th><td>TCF4        </td><td>0           </td><td>1           </td><td> 4          </td><td> 9          </td><td>2.986550e-18</td><td>0.8079576   </td><td>2.192866e-19</td><td>1.920424e-01</td></tr>\n",
       "\t<tr><th scope=row>16590</th><td>TCF7L2      </td><td>0           </td><td>2           </td><td> 1          </td><td> 1          </td><td>3.607212e-02</td><td>0.9157145   </td><td>2.194924e-02</td><td>2.626414e-02</td></tr>\n",
       "\t<tr><th scope=row>16862</th><td>TLK2        </td><td>1           </td><td>1           </td><td> 2          </td><td> 0          </td><td>4.369340e-03</td><td>0.9780654   </td><td>7.184877e-03</td><td>1.038043e-02</td></tr>\n",
       "\t<tr><th scope=row>17284</th><td>TNPO3       </td><td>1           </td><td>0           </td><td> 1          </td><td> 2          </td><td>3.005375e-03</td><td>0.9278219   </td><td>7.108293e-04</td><td>6.846189e-02</td></tr>\n",
       "\t<tr><th scope=row>17548</th><td>TRIP12      </td><td>1           </td><td>2           </td><td> 2          </td><td> 3          </td><td>1.926201e-06</td><td>0.9953792   </td><td>7.255860e-06</td><td>4.611607e-03</td></tr>\n",
       "\t<tr><th scope=row>18294</th><td>WAC         </td><td>0           </td><td>2           </td><td> 1          </td><td> 3          </td><td>1.811499e-06</td><td>0.9870079   </td><td>2.402535e-06</td><td>1.298793e-02</td></tr>\n",
       "\t<tr><th scope=row>18337</th><td>WDR26       </td><td>1           </td><td>0           </td><td> 1          </td><td> 2          </td><td>1.626948e-03</td><td>0.9363071   </td><td>4.313388e-04</td><td>6.163459e-02</td></tr>\n",
       "</tbody>\n",
       "</table>\n"
      ],
      "text/latex": [
       "\\begin{tabular}{r|lllllllll}\n",
       "  & geneName & dn\\_damaging\\_ASD & dn\\_lof\\_ASD & dn\\_damaging\\_DD & dn\\_lof\\_DD & NO & BOTH & FIRST & SECOND\\\\\n",
       "\\hline\n",
       "\t347 & ADNP         & 0            & 5            & 1            & 19           & 2.711705e-34 & 0.9999747    & 1.871526e-31 & 2.528637e-05\\\\\n",
       "\t447 & AHDC1        & 0            & 1            & 0            &  8           & 1.083877e-11 & 0.9235181    & 2.284114e-12 & 7.648190e-02\\\\\n",
       "\t681 & ANKRD11      & 0            & 2            & 0            & 32           & 1.863055e-49 & 0.9369696    & 4.833391e-50 & 6.303042e-02\\\\\n",
       "\t1001 & ARID1B       & 0            & 7            & 0            & 30           & 3.739192e-51 & 0.9999992    & 8.530963e-47 & 7.649453e-07\\\\\n",
       "\t1002 & ARID2        & 1            & 0            & 0            &  3           & 3.990349e-03 & 0.9307097    & 1.008140e-03 & 6.429179e-02\\\\\n",
       "\t1124 & ASH1L        & 0            & 3            & 0            &  2           & 4.536432e-02 & 0.8148009    & 1.350584e-01 & 4.776340e-03\\\\\n",
       "\t1155 & ASXL3        & 0            & 2            & 0            & 14           & 9.559324e-22 & 0.9863720    & 1.207497e-21 & 1.362802e-02\\\\\n",
       "\t1450 & BCL11A       & 0            & 2            & 2            &  3           & 3.277679e-07 & 0.9775661    & 2.492695e-07 & 2.243337e-02\\\\\n",
       "\t2418 & CAMK2A       & 1            & 0            & 1            &  1           & 2.098198e-02 & 0.9232700    & 6.924660e-03 & 4.882338e-02\\\\\n",
       "\t3201 & CHD2         & 0            & 5            & 0            &  6           & 1.143378e-11 & 0.9999739    & 7.642540e-09 & 2.610909e-05\\\\\n",
       "\t3206 & CHD7         & 1            & 1            & 2            &  2           & 1.566241e-02 & 0.9109166    & 3.564352e-03 & 6.985664e-02\\\\\n",
       "\t3516 & CNOT3        & 0            & 2            & 2            &  2           & 3.078139e-05 & 0.9708761    & 1.793830e-05 & 2.907515e-02\\\\\n",
       "\t3924 & CTCF         & 0            & 1            & 5            &  0           & 2.654260e-07 & 0.8756509    & 3.261999e-08 & 1.243488e-01\\\\\n",
       "\t3942 & CTNNB1       & 0            & 1            & 0            & 11           & 3.696662e-15 & 0.8487251    & 3.619604e-16 & 1.512749e-01\\\\\n",
       "\t4069 & CYP27C1      & 0            & 1            & 2            &  0           & 1.795300e-02 & 0.8742851    & 2.604972e-03 & 1.051570e-01\\\\\n",
       "\t4296 & DEAF1        & 2            & 0            & 1            &  0           & 1.695720e-02 & 0.8744409    & 1.061643e-01 & 2.437570e-03\\\\\n",
       "\t4632 & DNMT3A       & 0            & 1            & 4            &  1           & 3.193206e-06 & 0.8176229    & 2.498440e-07 & 1.823737e-01\\\\\n",
       "\t4832 & DYRK1A       & 0            & 4            & 4            & 14           & 1.281357e-29 & 0.9996618    & 6.610182e-28 & 3.381902e-04\\\\\n",
       "\t6120 & FOXP1        & 0            & 2            & 4            &  8           & 7.635790e-18 & 0.9727263    & 4.752815e-18 & 2.727374e-02\\\\\n",
       "\t6265 & GABRB3       & 1            & 1            & 2            &  0           & 3.310877e-03 & 0.9810210    & 5.669172e-03 & 9.998913e-03\\\\\n",
       "\t6606 & GNAI1        & 1            & 0            & 5            &  0           & 5.209674e-08 & 0.9547618    & 1.918899e-08 & 4.523812e-02\\\\\n",
       "\t7165 & HECW2        & 2            & 0            & 5            &  1           & 4.161778e-08 & 0.9877118    & 5.838160e-08 & 1.228808e-02\\\\\n",
       "\t8283 & KCNQ2        & 0            & 1            & 9            &  0           & 1.729088e-13 & 0.8237409    & 1.410286e-14 & 1.762591e-01\\\\\n",
       "\t8284 & KCNQ3        & 1            & 0            & 3            &  0           & 8.097909e-04 & 0.9323534    & 1.977314e-04 & 6.663906e-02\\\\\n",
       "\t8336 & KDM5B        & 3            & 3            & 0            &  3           & 1.192815e-05 & 0.9520067    & 4.797721e-02 & 4.130752e-06\\\\\n",
       "\t8839 & LARP4B       & 0            & 1            & 0            &  2           & 3.282100e-02 & 0.8701354    & 5.441040e-03 & 9.160259e-02\\\\\n",
       "\t8929 & LEO1         & 0            & 1            & 1            &  1           & 2.270429e-02 & 0.8777366    & 3.625365e-03 & 9.593375e-02\\\\\n",
       "\t9618 & LZTR1        & 1            & 0            & 2            &  1           & 7.563450e-03 & 0.8920486    & 1.186980e-03 & 9.920099e-02\\\\\n",
       "\t9700 & MAP2K1       & 1            & 0            & 3            &  0           & 9.824517e-05 & 0.9588482    & 4.008535e-05 & 4.101346e-02\\\\\n",
       "\t9821 & MBD5         & 0            & 2            & 0            &  3           & 1.358677e-04 & 0.9854554    & 1.640404e-04 & 1.424471e-02\\\\\n",
       "\t⋮ & ⋮ & ⋮ & ⋮ & ⋮ & ⋮ & ⋮ & ⋮ & ⋮ & ⋮\\\\\n",
       "\t11282 & NSD1         & 1            & 0            &  1           &  7           & 2.669076e-09 & 0.8578650    & 2.811446e-10 & 1.421350e-01\\\\\n",
       "\t12129 & PBX1         & 0            & 1            &  2           &  0           & 4.753259e-02 & 0.8205201    & 5.377776e-03 & 1.265695e-01\\\\\n",
       "\t12831 & POGZ         & 0            & 3            &  0           &  6           & 1.096951e-09 & 0.9977785    & 8.598641e-09 & 2.221482e-03\\\\\n",
       "\t12994 & PPM1D        & 0            & 1            &  0           &  5           & 2.704755e-06 & 0.8812512    & 3.503164e-07 & 1.187458e-01\\\\\n",
       "\t13062 & PPP2R5D      & 0            & 1            & 12           &  0           & 1.171822e-18 & 0.8159501    & 9.066516e-20 & 1.840499e-01\\\\\n",
       "\t13193 & PRKD1        & 1            & 0            &  3           &  0           & 1.510030e-03 & 0.9204537    & 3.120919e-04 & 7.772416e-02\\\\\n",
       "\t13440 & PTEN         & 5            & 2            &  1           &  1           & 2.420317e-09 & 0.9964448    & 3.555206e-03 & 1.183891e-08\\\\\n",
       "\t13488 & PTPN11       & 1            & 0            &  2           &  0           & 1.821747e-02 & 0.9221092    & 5.401952e-03 & 5.427137e-02\\\\\n",
       "\t13538 & PUF60        & 1            & 0            &  0           &  3           & 1.121591e-03 & 0.9479203    & 3.667589e-04 & 5.059139e-02\\\\\n",
       "\t13599 & QRICH1       & 0            & 1            &  0           &  3           & 9.934629e-04 & 0.9058603    & 1.689223e-04 & 9.297727e-02\\\\\n",
       "\t14673 & SCN2A        & 5            & 6            &  9           &  4           & 2.073893e-25 & 1.0000000    & 4.445775e-17 & 8.141229e-11\\\\\n",
       "\t14894 & SETD2        & 0            & 2            &  1           &  2           & 2.748123e-03 & 0.9637474    & 1.441612e-03 & 3.206284e-02\\\\\n",
       "\t14897 & SETD5        & 0            & 1            &  2           & 14           & 5.252090e-23 & 0.8323054    & 4.549322e-24 & 1.676946e-01\\\\\n",
       "\t15010 & SHANK3       & 0            & 3            &  0           &  3           & 1.228329e-05 & 0.9981720    & 1.266848e-04 & 1.689066e-03\\\\\n",
       "\t15440 & SLC6A1       & 2            & 0            &  6           &  2           & 3.919970e-13 & 0.9954636    & 1.501215e-12 & 4.536449e-03\\\\\n",
       "\t15887 & SPEN         & 0            & 1            &  0           &  2           & 6.266611e-02 & 0.8343849    & 9.796109e-03 & 9.315293e-02\\\\\n",
       "\t16019 & SRRM2        & 0            & 1            &  0           &  2           & 6.382577e-02 & 0.8328995    & 9.940252e-03 & 9.333452e-02\\\\\n",
       "\t16129 & STARD9       & 0            & 1            &  0           &  2           & 8.425773e-02 & 0.8075353    & 1.239357e-02 & 9.581336e-02\\\\\n",
       "\t16228 & STXBP1       & 1            & 1            &  6           &  5           & 1.201722e-16 & 0.9837803    & 1.272067e-16 & 1.621972e-02\\\\\n",
       "\t16297 & SUV420H1     & 0            & 3            &  0           &  2           & 9.379336e-04 & 0.9893394    & 7.588574e-03 & 2.134068e-03\\\\\n",
       "\t16337 & SYNGAP1      & 1            & 7            &  0           & 13           & 6.957234e-24 & 1.0000000    & 2.440237e-18 & 4.975717e-08\\\\\n",
       "\t16357 & SYT1         & 1            & 0            &  2           &  0           & 5.504916e-03 & 0.9508632    & 2.205157e-03 & 4.142668e-02\\\\\n",
       "\t16537 & TBL1XR1      & 1            & 1            &  2           &  4           & 1.268707e-09 & 0.9924720    & 2.919117e-09 & 7.527991e-03\\\\\n",
       "\t16587 & TCF4         & 0            & 1            &  4           &  9           & 2.986550e-18 & 0.8079576    & 2.192866e-19 & 1.920424e-01\\\\\n",
       "\t16590 & TCF7L2       & 0            & 2            &  1           &  1           & 3.607212e-02 & 0.9157145    & 2.194924e-02 & 2.626414e-02\\\\\n",
       "\t16862 & TLK2         & 1            & 1            &  2           &  0           & 4.369340e-03 & 0.9780654    & 7.184877e-03 & 1.038043e-02\\\\\n",
       "\t17284 & TNPO3        & 1            & 0            &  1           &  2           & 3.005375e-03 & 0.9278219    & 7.108293e-04 & 6.846189e-02\\\\\n",
       "\t17548 & TRIP12       & 1            & 2            &  2           &  3           & 1.926201e-06 & 0.9953792    & 7.255860e-06 & 4.611607e-03\\\\\n",
       "\t18294 & WAC          & 0            & 2            &  1           &  3           & 1.811499e-06 & 0.9870079    & 2.402535e-06 & 1.298793e-02\\\\\n",
       "\t18337 & WDR26        & 1            & 0            &  1           &  2           & 1.626948e-03 & 0.9363071    & 4.313388e-04 & 6.163459e-02\\\\\n",
       "\\end{tabular}\n"
      ],
      "text/markdown": [
       "\n",
       "| <!--/--> | geneName | dn_damaging_ASD | dn_lof_ASD | dn_damaging_DD | dn_lof_DD | NO | BOTH | FIRST | SECOND | \n",
       "|---|---|---|---|---|---|---|---|---|---|---|---|---|---|---|---|---|---|---|---|---|---|---|---|---|---|---|---|---|---|---|---|---|---|---|---|---|---|---|---|---|---|---|---|---|---|---|---|---|---|---|---|---|---|---|---|---|---|---|---|---|\n",
       "| 347 | ADNP         | 0            | 5            | 1            | 19           | 2.711705e-34 | 0.9999747    | 1.871526e-31 | 2.528637e-05 | \n",
       "| 447 | AHDC1        | 0            | 1            | 0            |  8           | 1.083877e-11 | 0.9235181    | 2.284114e-12 | 7.648190e-02 | \n",
       "| 681 | ANKRD11      | 0            | 2            | 0            | 32           | 1.863055e-49 | 0.9369696    | 4.833391e-50 | 6.303042e-02 | \n",
       "| 1001 | ARID1B       | 0            | 7            | 0            | 30           | 3.739192e-51 | 0.9999992    | 8.530963e-47 | 7.649453e-07 | \n",
       "| 1002 | ARID2        | 1            | 0            | 0            |  3           | 3.990349e-03 | 0.9307097    | 1.008140e-03 | 6.429179e-02 | \n",
       "| 1124 | ASH1L        | 0            | 3            | 0            |  2           | 4.536432e-02 | 0.8148009    | 1.350584e-01 | 4.776340e-03 | \n",
       "| 1155 | ASXL3        | 0            | 2            | 0            | 14           | 9.559324e-22 | 0.9863720    | 1.207497e-21 | 1.362802e-02 | \n",
       "| 1450 | BCL11A       | 0            | 2            | 2            |  3           | 3.277679e-07 | 0.9775661    | 2.492695e-07 | 2.243337e-02 | \n",
       "| 2418 | CAMK2A       | 1            | 0            | 1            |  1           | 2.098198e-02 | 0.9232700    | 6.924660e-03 | 4.882338e-02 | \n",
       "| 3201 | CHD2         | 0            | 5            | 0            |  6           | 1.143378e-11 | 0.9999739    | 7.642540e-09 | 2.610909e-05 | \n",
       "| 3206 | CHD7         | 1            | 1            | 2            |  2           | 1.566241e-02 | 0.9109166    | 3.564352e-03 | 6.985664e-02 | \n",
       "| 3516 | CNOT3        | 0            | 2            | 2            |  2           | 3.078139e-05 | 0.9708761    | 1.793830e-05 | 2.907515e-02 | \n",
       "| 3924 | CTCF         | 0            | 1            | 5            |  0           | 2.654260e-07 | 0.8756509    | 3.261999e-08 | 1.243488e-01 | \n",
       "| 3942 | CTNNB1       | 0            | 1            | 0            | 11           | 3.696662e-15 | 0.8487251    | 3.619604e-16 | 1.512749e-01 | \n",
       "| 4069 | CYP27C1      | 0            | 1            | 2            |  0           | 1.795300e-02 | 0.8742851    | 2.604972e-03 | 1.051570e-01 | \n",
       "| 4296 | DEAF1        | 2            | 0            | 1            |  0           | 1.695720e-02 | 0.8744409    | 1.061643e-01 | 2.437570e-03 | \n",
       "| 4632 | DNMT3A       | 0            | 1            | 4            |  1           | 3.193206e-06 | 0.8176229    | 2.498440e-07 | 1.823737e-01 | \n",
       "| 4832 | DYRK1A       | 0            | 4            | 4            | 14           | 1.281357e-29 | 0.9996618    | 6.610182e-28 | 3.381902e-04 | \n",
       "| 6120 | FOXP1        | 0            | 2            | 4            |  8           | 7.635790e-18 | 0.9727263    | 4.752815e-18 | 2.727374e-02 | \n",
       "| 6265 | GABRB3       | 1            | 1            | 2            |  0           | 3.310877e-03 | 0.9810210    | 5.669172e-03 | 9.998913e-03 | \n",
       "| 6606 | GNAI1        | 1            | 0            | 5            |  0           | 5.209674e-08 | 0.9547618    | 1.918899e-08 | 4.523812e-02 | \n",
       "| 7165 | HECW2        | 2            | 0            | 5            |  1           | 4.161778e-08 | 0.9877118    | 5.838160e-08 | 1.228808e-02 | \n",
       "| 8283 | KCNQ2        | 0            | 1            | 9            |  0           | 1.729088e-13 | 0.8237409    | 1.410286e-14 | 1.762591e-01 | \n",
       "| 8284 | KCNQ3        | 1            | 0            | 3            |  0           | 8.097909e-04 | 0.9323534    | 1.977314e-04 | 6.663906e-02 | \n",
       "| 8336 | KDM5B        | 3            | 3            | 0            |  3           | 1.192815e-05 | 0.9520067    | 4.797721e-02 | 4.130752e-06 | \n",
       "| 8839 | LARP4B       | 0            | 1            | 0            |  2           | 3.282100e-02 | 0.8701354    | 5.441040e-03 | 9.160259e-02 | \n",
       "| 8929 | LEO1         | 0            | 1            | 1            |  1           | 2.270429e-02 | 0.8777366    | 3.625365e-03 | 9.593375e-02 | \n",
       "| 9618 | LZTR1        | 1            | 0            | 2            |  1           | 7.563450e-03 | 0.8920486    | 1.186980e-03 | 9.920099e-02 | \n",
       "| 9700 | MAP2K1       | 1            | 0            | 3            |  0           | 9.824517e-05 | 0.9588482    | 4.008535e-05 | 4.101346e-02 | \n",
       "| 9821 | MBD5         | 0            | 2            | 0            |  3           | 1.358677e-04 | 0.9854554    | 1.640404e-04 | 1.424471e-02 | \n",
       "| ⋮ | ⋮ | ⋮ | ⋮ | ⋮ | ⋮ | ⋮ | ⋮ | ⋮ | ⋮ | \n",
       "| 11282 | NSD1         | 1            | 0            |  1           |  7           | 2.669076e-09 | 0.8578650    | 2.811446e-10 | 1.421350e-01 | \n",
       "| 12129 | PBX1         | 0            | 1            |  2           |  0           | 4.753259e-02 | 0.8205201    | 5.377776e-03 | 1.265695e-01 | \n",
       "| 12831 | POGZ         | 0            | 3            |  0           |  6           | 1.096951e-09 | 0.9977785    | 8.598641e-09 | 2.221482e-03 | \n",
       "| 12994 | PPM1D        | 0            | 1            |  0           |  5           | 2.704755e-06 | 0.8812512    | 3.503164e-07 | 1.187458e-01 | \n",
       "| 13062 | PPP2R5D      | 0            | 1            | 12           |  0           | 1.171822e-18 | 0.8159501    | 9.066516e-20 | 1.840499e-01 | \n",
       "| 13193 | PRKD1        | 1            | 0            |  3           |  0           | 1.510030e-03 | 0.9204537    | 3.120919e-04 | 7.772416e-02 | \n",
       "| 13440 | PTEN         | 5            | 2            |  1           |  1           | 2.420317e-09 | 0.9964448    | 3.555206e-03 | 1.183891e-08 | \n",
       "| 13488 | PTPN11       | 1            | 0            |  2           |  0           | 1.821747e-02 | 0.9221092    | 5.401952e-03 | 5.427137e-02 | \n",
       "| 13538 | PUF60        | 1            | 0            |  0           |  3           | 1.121591e-03 | 0.9479203    | 3.667589e-04 | 5.059139e-02 | \n",
       "| 13599 | QRICH1       | 0            | 1            |  0           |  3           | 9.934629e-04 | 0.9058603    | 1.689223e-04 | 9.297727e-02 | \n",
       "| 14673 | SCN2A        | 5            | 6            |  9           |  4           | 2.073893e-25 | 1.0000000    | 4.445775e-17 | 8.141229e-11 | \n",
       "| 14894 | SETD2        | 0            | 2            |  1           |  2           | 2.748123e-03 | 0.9637474    | 1.441612e-03 | 3.206284e-02 | \n",
       "| 14897 | SETD5        | 0            | 1            |  2           | 14           | 5.252090e-23 | 0.8323054    | 4.549322e-24 | 1.676946e-01 | \n",
       "| 15010 | SHANK3       | 0            | 3            |  0           |  3           | 1.228329e-05 | 0.9981720    | 1.266848e-04 | 1.689066e-03 | \n",
       "| 15440 | SLC6A1       | 2            | 0            |  6           |  2           | 3.919970e-13 | 0.9954636    | 1.501215e-12 | 4.536449e-03 | \n",
       "| 15887 | SPEN         | 0            | 1            |  0           |  2           | 6.266611e-02 | 0.8343849    | 9.796109e-03 | 9.315293e-02 | \n",
       "| 16019 | SRRM2        | 0            | 1            |  0           |  2           | 6.382577e-02 | 0.8328995    | 9.940252e-03 | 9.333452e-02 | \n",
       "| 16129 | STARD9       | 0            | 1            |  0           |  2           | 8.425773e-02 | 0.8075353    | 1.239357e-02 | 9.581336e-02 | \n",
       "| 16228 | STXBP1       | 1            | 1            |  6           |  5           | 1.201722e-16 | 0.9837803    | 1.272067e-16 | 1.621972e-02 | \n",
       "| 16297 | SUV420H1     | 0            | 3            |  0           |  2           | 9.379336e-04 | 0.9893394    | 7.588574e-03 | 2.134068e-03 | \n",
       "| 16337 | SYNGAP1      | 1            | 7            |  0           | 13           | 6.957234e-24 | 1.0000000    | 2.440237e-18 | 4.975717e-08 | \n",
       "| 16357 | SYT1         | 1            | 0            |  2           |  0           | 5.504916e-03 | 0.9508632    | 2.205157e-03 | 4.142668e-02 | \n",
       "| 16537 | TBL1XR1      | 1            | 1            |  2           |  4           | 1.268707e-09 | 0.9924720    | 2.919117e-09 | 7.527991e-03 | \n",
       "| 16587 | TCF4         | 0            | 1            |  4           |  9           | 2.986550e-18 | 0.8079576    | 2.192866e-19 | 1.920424e-01 | \n",
       "| 16590 | TCF7L2       | 0            | 2            |  1           |  1           | 3.607212e-02 | 0.9157145    | 2.194924e-02 | 2.626414e-02 | \n",
       "| 16862 | TLK2         | 1            | 1            |  2           |  0           | 4.369340e-03 | 0.9780654    | 7.184877e-03 | 1.038043e-02 | \n",
       "| 17284 | TNPO3        | 1            | 0            |  1           |  2           | 3.005375e-03 | 0.9278219    | 7.108293e-04 | 6.846189e-02 | \n",
       "| 17548 | TRIP12       | 1            | 2            |  2           |  3           | 1.926201e-06 | 0.9953792    | 7.255860e-06 | 4.611607e-03 | \n",
       "| 18294 | WAC          | 0            | 2            |  1           |  3           | 1.811499e-06 | 0.9870079    | 2.402535e-06 | 1.298793e-02 | \n",
       "| 18337 | WDR26        | 1            | 0            |  1           |  2           | 1.626948e-03 | 0.9363071    | 4.313388e-04 | 6.163459e-02 | \n",
       "\n",
       "\n"
      ],
      "text/plain": [
       "      geneName dn_damaging_ASD dn_lof_ASD dn_damaging_DD dn_lof_DD NO          \n",
       "347   ADNP     0               5          1              19        2.711705e-34\n",
       "447   AHDC1    0               1          0               8        1.083877e-11\n",
       "681   ANKRD11  0               2          0              32        1.863055e-49\n",
       "1001  ARID1B   0               7          0              30        3.739192e-51\n",
       "1002  ARID2    1               0          0               3        3.990349e-03\n",
       "1124  ASH1L    0               3          0               2        4.536432e-02\n",
       "1155  ASXL3    0               2          0              14        9.559324e-22\n",
       "1450  BCL11A   0               2          2               3        3.277679e-07\n",
       "2418  CAMK2A   1               0          1               1        2.098198e-02\n",
       "3201  CHD2     0               5          0               6        1.143378e-11\n",
       "3206  CHD7     1               1          2               2        1.566241e-02\n",
       "3516  CNOT3    0               2          2               2        3.078139e-05\n",
       "3924  CTCF     0               1          5               0        2.654260e-07\n",
       "3942  CTNNB1   0               1          0              11        3.696662e-15\n",
       "4069  CYP27C1  0               1          2               0        1.795300e-02\n",
       "4296  DEAF1    2               0          1               0        1.695720e-02\n",
       "4632  DNMT3A   0               1          4               1        3.193206e-06\n",
       "4832  DYRK1A   0               4          4              14        1.281357e-29\n",
       "6120  FOXP1    0               2          4               8        7.635790e-18\n",
       "6265  GABRB3   1               1          2               0        3.310877e-03\n",
       "6606  GNAI1    1               0          5               0        5.209674e-08\n",
       "7165  HECW2    2               0          5               1        4.161778e-08\n",
       "8283  KCNQ2    0               1          9               0        1.729088e-13\n",
       "8284  KCNQ3    1               0          3               0        8.097909e-04\n",
       "8336  KDM5B    3               3          0               3        1.192815e-05\n",
       "8839  LARP4B   0               1          0               2        3.282100e-02\n",
       "8929  LEO1     0               1          1               1        2.270429e-02\n",
       "9618  LZTR1    1               0          2               1        7.563450e-03\n",
       "9700  MAP2K1   1               0          3               0        9.824517e-05\n",
       "9821  MBD5     0               2          0               3        1.358677e-04\n",
       "⋮     ⋮        ⋮               ⋮          ⋮              ⋮         ⋮           \n",
       "11282 NSD1     1               0           1              7        2.669076e-09\n",
       "12129 PBX1     0               1           2              0        4.753259e-02\n",
       "12831 POGZ     0               3           0              6        1.096951e-09\n",
       "12994 PPM1D    0               1           0              5        2.704755e-06\n",
       "13062 PPP2R5D  0               1          12              0        1.171822e-18\n",
       "13193 PRKD1    1               0           3              0        1.510030e-03\n",
       "13440 PTEN     5               2           1              1        2.420317e-09\n",
       "13488 PTPN11   1               0           2              0        1.821747e-02\n",
       "13538 PUF60    1               0           0              3        1.121591e-03\n",
       "13599 QRICH1   0               1           0              3        9.934629e-04\n",
       "14673 SCN2A    5               6           9              4        2.073893e-25\n",
       "14894 SETD2    0               2           1              2        2.748123e-03\n",
       "14897 SETD5    0               1           2             14        5.252090e-23\n",
       "15010 SHANK3   0               3           0              3        1.228329e-05\n",
       "15440 SLC6A1   2               0           6              2        3.919970e-13\n",
       "15887 SPEN     0               1           0              2        6.266611e-02\n",
       "16019 SRRM2    0               1           0              2        6.382577e-02\n",
       "16129 STARD9   0               1           0              2        8.425773e-02\n",
       "16228 STXBP1   1               1           6              5        1.201722e-16\n",
       "16297 SUV420H1 0               3           0              2        9.379336e-04\n",
       "16337 SYNGAP1  1               7           0             13        6.957234e-24\n",
       "16357 SYT1     1               0           2              0        5.504916e-03\n",
       "16537 TBL1XR1  1               1           2              4        1.268707e-09\n",
       "16587 TCF4     0               1           4              9        2.986550e-18\n",
       "16590 TCF7L2   0               2           1              1        3.607212e-02\n",
       "16862 TLK2     1               1           2              0        4.369340e-03\n",
       "17284 TNPO3    1               0           1              2        3.005375e-03\n",
       "17548 TRIP12   1               2           2              3        1.926201e-06\n",
       "18294 WAC      0               2           1              3        1.811499e-06\n",
       "18337 WDR26    1               0           1              2        1.626948e-03\n",
       "      BOTH      FIRST        SECOND      \n",
       "347   0.9999747 1.871526e-31 2.528637e-05\n",
       "447   0.9235181 2.284114e-12 7.648190e-02\n",
       "681   0.9369696 4.833391e-50 6.303042e-02\n",
       "1001  0.9999992 8.530963e-47 7.649453e-07\n",
       "1002  0.9307097 1.008140e-03 6.429179e-02\n",
       "1124  0.8148009 1.350584e-01 4.776340e-03\n",
       "1155  0.9863720 1.207497e-21 1.362802e-02\n",
       "1450  0.9775661 2.492695e-07 2.243337e-02\n",
       "2418  0.9232700 6.924660e-03 4.882338e-02\n",
       "3201  0.9999739 7.642540e-09 2.610909e-05\n",
       "3206  0.9109166 3.564352e-03 6.985664e-02\n",
       "3516  0.9708761 1.793830e-05 2.907515e-02\n",
       "3924  0.8756509 3.261999e-08 1.243488e-01\n",
       "3942  0.8487251 3.619604e-16 1.512749e-01\n",
       "4069  0.8742851 2.604972e-03 1.051570e-01\n",
       "4296  0.8744409 1.061643e-01 2.437570e-03\n",
       "4632  0.8176229 2.498440e-07 1.823737e-01\n",
       "4832  0.9996618 6.610182e-28 3.381902e-04\n",
       "6120  0.9727263 4.752815e-18 2.727374e-02\n",
       "6265  0.9810210 5.669172e-03 9.998913e-03\n",
       "6606  0.9547618 1.918899e-08 4.523812e-02\n",
       "7165  0.9877118 5.838160e-08 1.228808e-02\n",
       "8283  0.8237409 1.410286e-14 1.762591e-01\n",
       "8284  0.9323534 1.977314e-04 6.663906e-02\n",
       "8336  0.9520067 4.797721e-02 4.130752e-06\n",
       "8839  0.8701354 5.441040e-03 9.160259e-02\n",
       "8929  0.8777366 3.625365e-03 9.593375e-02\n",
       "9618  0.8920486 1.186980e-03 9.920099e-02\n",
       "9700  0.9588482 4.008535e-05 4.101346e-02\n",
       "9821  0.9854554 1.640404e-04 1.424471e-02\n",
       "⋮     ⋮         ⋮            ⋮           \n",
       "11282 0.8578650 2.811446e-10 1.421350e-01\n",
       "12129 0.8205201 5.377776e-03 1.265695e-01\n",
       "12831 0.9977785 8.598641e-09 2.221482e-03\n",
       "12994 0.8812512 3.503164e-07 1.187458e-01\n",
       "13062 0.8159501 9.066516e-20 1.840499e-01\n",
       "13193 0.9204537 3.120919e-04 7.772416e-02\n",
       "13440 0.9964448 3.555206e-03 1.183891e-08\n",
       "13488 0.9221092 5.401952e-03 5.427137e-02\n",
       "13538 0.9479203 3.667589e-04 5.059139e-02\n",
       "13599 0.9058603 1.689223e-04 9.297727e-02\n",
       "14673 1.0000000 4.445775e-17 8.141229e-11\n",
       "14894 0.9637474 1.441612e-03 3.206284e-02\n",
       "14897 0.8323054 4.549322e-24 1.676946e-01\n",
       "15010 0.9981720 1.266848e-04 1.689066e-03\n",
       "15440 0.9954636 1.501215e-12 4.536449e-03\n",
       "15887 0.8343849 9.796109e-03 9.315293e-02\n",
       "16019 0.8328995 9.940252e-03 9.333452e-02\n",
       "16129 0.8075353 1.239357e-02 9.581336e-02\n",
       "16228 0.9837803 1.272067e-16 1.621972e-02\n",
       "16297 0.9893394 7.588574e-03 2.134068e-03\n",
       "16337 1.0000000 2.440237e-18 4.975717e-08\n",
       "16357 0.9508632 2.205157e-03 4.142668e-02\n",
       "16537 0.9924720 2.919117e-09 7.527991e-03\n",
       "16587 0.8079576 2.192866e-19 1.920424e-01\n",
       "16590 0.9157145 2.194924e-02 2.626414e-02\n",
       "16862 0.9780654 7.184877e-03 1.038043e-02\n",
       "17284 0.9278219 7.108293e-04 6.846189e-02\n",
       "17548 0.9953792 7.255860e-06 4.611607e-03\n",
       "18294 0.9870079 2.402535e-06 1.298793e-02\n",
       "18337 0.9363071 4.313388e-04 6.163459e-02"
      ]
     },
     "metadata": {},
     "output_type": "display_data"
    }
   ],
   "source": [
    "mTADAresults$probModel ###The proportion of each model\n",
    "\n",
    "head(mTADAresults$pars) ##Full parameters: p12 is the proportion of overlapping genes\n",
    "outData <- mTADAresults$data\n",
    "head(outData) ## This will show genes and their posterior probabilities (PP) for each model\n",
    "outData[outData$xGroup == 3, ]\n",
    "outData[outData$BOTH > 0.8, ] ## Genes with Model3'PPs > 0.8\n",
    "\n"
   ]
  },
  {
   "cell_type": "code",
   "execution_count": null,
   "metadata": {
    "collapsed": true
   },
   "outputs": [],
   "source": []
  }
 ],
 "metadata": {
  "anaconda-cloud": {},
  "kernelspec": {
   "display_name": "R",
   "language": "R",
   "name": "ir"
  },
  "language_info": {
   "codemirror_mode": "r",
   "file_extension": ".r",
   "mimetype": "text/x-r-source",
   "name": "R",
   "pygments_lexer": "r",
   "version": "3.3.2"
  }
 },
 "nbformat": 4,
 "nbformat_minor": 1
}
