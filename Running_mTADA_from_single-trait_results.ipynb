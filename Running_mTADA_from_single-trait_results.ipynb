{
 "cells": [
  {
   "cell_type": "markdown",
   "metadata": {},
   "source": [
    "# This notebook descibes steps used to run mTADA\n",
    "\n",
    "### Only use this if we already have results from single-trait analyses"
   ]
  },
  {
   "cell_type": "markdown",
   "metadata": {},
   "source": [
    "## Load the source code"
   ]
  },
  {
   "cell_type": "code",
   "execution_count": 1,
   "metadata": {
    "collapsed": false
   },
   "outputs": [
    {
     "name": "stderr",
     "output_type": "stream",
     "text": [
      "locfit 1.5-9.1 \t 2013-03-22\n"
     ]
    }
   ],
   "source": [
    "dirSourceFile <- \"./script/\"\n",
    "rFile <- dir(dirSourceFile, \".R$\")\n",
    "for (ir in 1:length(rFile)){\n",
    "    source(paste0(dirSourceFile, rFile[ir]))\n",
    "}\n",
    "\n",
    "\n",
    "\n"
   ]
  },
  {
   "cell_type": "markdown",
   "metadata": {},
   "source": [
    "## Read the data and set parameters for each trait"
   ]
  },
  {
   "cell_type": "code",
   "execution_count": 2,
   "metadata": {
    "collapsed": false
   },
   "outputs": [],
   "source": [
    "data <- read.table(\"data/FullDataSet_DenovoMutations_for_mTADA.txt\", header = TRUE)\n",
    "disease1 = \"ASD\"\n",
    "ntrio1 = 5122 #family numbers\n",
    "p1 = 0.06421404 #The proportion of risk genes \n",
    "meanGamma1 = c(15.180775,  5.906302) #Mean Gamma of two categories\n",
    "beta1 = c(0.8468835, 1.0148949) #Beta values inside the distribution RR ~ Gamma(meanRR*beta, beta)\n",
    "dataT1 <- data[, paste0(c(\"dn_damaging_\", \"dn_lof_\"), disease1)] #De novo data\n",
    "muDataT1 <- data[, c(\"mut_damaging\", \"mut_lof\")] #Mutation data of the first trait\n",
    "\n",
    "disease2 = \"DD\"\n",
    "ntrio2 = 4293\n",
    "p2 = 0.03677801\n",
    "meanGamma2 = c(50.59194830, 29.25214851)\n",
    "beta2 = c(0.80995072, 0.81765175)\n",
    "dataT2 <- data[, paste0(c(\"dn_damaging_\", \"dn_lof_\"), disease2)]\n",
    "muDataT2 <- muDataT1\n",
    "\n"
   ]
  },
  {
   "cell_type": "markdown",
   "metadata": {},
   "source": [
    "## Run mTADA"
   ]
  },
  {
   "cell_type": "code",
   "execution_count": 3,
   "metadata": {
    "collapsed": false
   },
   "outputs": [
    {
     "name": "stderr",
     "output_type": "stream",
     "text": [
      "Loading required package: ggplot2\n",
      "Loading required package: StanHeaders\n",
      "rstan (Version 2.13.2, packaged: 2016-12-18 07:04:42 UTC, GitRev: 5fa1e80eb817)\n",
      "For execution on a local, multicore CPU with excess RAM we recommend calling\n",
      "rstan_options(auto_write = TRUE)\n",
      "options(mc.cores = parallel::detectCores())\n",
      "===================\n",
      "Building the model\n",
      "=================\n",
      "\n"
     ]
    },
    {
     "name": "stdout",
     "output_type": "stream",
     "text": [
      "In file included from file7c322b2f9b1.cpp:8:\n",
      "In file included from /Users/hoangnguyen/anaconda2/lib/R/library/StanHeaders/include/src/stan/model/model_header.hpp:4:\n",
      "In file included from /Users/hoangnguyen/anaconda2/lib/R/library/StanHeaders/include/stan/math.hpp:4:\n",
      "In file included from /Users/hoangnguyen/anaconda2/lib/R/library/StanHeaders/include/stan/math/rev/mat.hpp:4:\n",
      "In file included from /Users/hoangnguyen/anaconda2/lib/R/library/StanHeaders/include/stan/math/rev/core.hpp:12:\n",
      "In file included from /Users/hoangnguyen/anaconda2/lib/R/library/StanHeaders/include/stan/math/rev/core/gevv_vvv_vari.hpp:5:\n",
      "In file included from /Users/hoangnguyen/anaconda2/lib/R/library/StanHeaders/include/stan/math/rev/core/var.hpp:7:\n",
      "In file included from /Users/hoangnguyen/anaconda2/lib/R/library/BH/include/boost/math/tools/config.hpp:13:\n",
      "In file included from /Users/hoangnguyen/anaconda2/lib/R/library/BH/include/boost/config.hpp:39:\n",
      "/Users/hoangnguyen/anaconda2/lib/R/library/BH/include/boost/config/compiler/clang.hpp:196:11: warning: 'BOOST_NO_CXX11_RVALUE_REFERENCES' macro redefined [-Wmacro-redefined]\n",
      "#  define BOOST_NO_CXX11_RVALUE_REFERENCES\n",
      "          ^\n",
      "<command line>:6:9: note: previous definition is here\n",
      "#define BOOST_NO_CXX11_RVALUE_REFERENCES 1\n",
      "        ^\n",
      "1 warning generated.\n"
     ]
    },
    {
     "name": "stderr",
     "output_type": "stream",
     "text": [
      "===================\n",
      "Running VB\n",
      "========================\n",
      "\n",
      "\n",
      "=======Not use MCMC===========\n",
      "\n"
     ]
    },
    {
     "name": "stdout",
     "output_type": "stream",
     "text": [
      "\n",
      "This is Automatic Differentiation Variational Inference.\n",
      "\n",
      "(EXPERIMENTAL ALGORITHM: expect frequent updates to the procedure.)\n",
      "\n",
      "Gradient evaluation took 0.164799 seconds\n",
      "1000 iterations under these settings should take 164.799 seconds.\n",
      "Adjust your expectations accordingly!\n",
      "\n",
      "Begin eta adaptation.\n",
      "Iteration:   1 / 250 [  0%]  (Adaptation)\n",
      "Iteration:  50 / 250 [ 20%]  (Adaptation)\n",
      "Iteration: 100 / 250 [ 40%]  (Adaptation)\n",
      "Iteration: 150 / 250 [ 60%]  (Adaptation)\n",
      "Iteration: 200 / 250 [ 80%]  (Adaptation)\n",
      "Success! Found best value [eta = 1] earlier than expected.\n",
      "\n",
      "Begin stochastic gradient ascent.\n",
      "  iter       ELBO   delta_ELBO_mean   delta_ELBO_med   notes \n",
      "   100     -1e+04             1.000            1.000\n",
      "   200     -1e+04             0.500            1.000\n",
      "   300     -1e+04             0.000            0.000   MEAN ELBO CONVERGED   MEDIAN ELBO CONVERGED\n",
      "\n",
      "Drawing a sample of size 1000 from the approximate posterior... \n",
      "COMPLETED.\n"
     ]
    },
    {
     "name": "stderr",
     "output_type": "stream",
     "text": [
      "====\n",
      "Only pi, alpha and hyper parameters are estimated in this step\n",
      "gTADA does not calculate HPDs for hyper betas, just their medians\n",
      "===\n",
      "\n",
      "Estimating for p12\n",
      "Estimating for gammaMeanDN1[1]\n"
     ]
    },
    {
     "name": "stdout",
     "output_type": "stream",
     "text": [
      "                     Mode       lCI       uCI\n",
      "p12             0.0258804 0.0207502 0.0305515\n",
      "gammaMeanDN1[1] 3.9377900 3.3443200 4.8067700\n"
     ]
    },
    {
     "name": "stderr",
     "output_type": "stream",
     "text": [
      "\n",
      "Mean gammas and betas have different dimension\n",
      "\n"
     ]
    },
    {
     "name": "stdout",
     "output_type": "stream",
     "text": [
      "         [,1]     [,2]     [,3]     [,4]\n",
      "[1,]  1.00000 1.000000  1.00000  1.00000\n",
      "[2,] 15.18078 5.906302 50.59195 29.25215\n",
      "[3,] 15.18078 5.906302  1.00000  1.00000\n",
      "[4,]  1.00000 1.000000 50.59195 29.25215\n",
      "     [,1] [,2] [,3] [,4]\n",
      "[1,]    1    1    1    1\n",
      "[2,]    1    1    1    1\n",
      "[3,]    1    1    1    1\n",
      "[4,]    1    1    1    1\n"
     ]
    },
    {
     "name": "stderr",
     "output_type": "stream",
     "text": [
      "j = 1\n"
     ]
    },
    {
     "name": "stdout",
     "output_type": "stream",
     "text": [
      "[1] 1\n"
     ]
    },
    {
     "name": "stderr",
     "output_type": "stream",
     "text": [
      "j = 2\n"
     ]
    },
    {
     "name": "stdout",
     "output_type": "stream",
     "text": [
      "[1] 2\n"
     ]
    },
    {
     "name": "stderr",
     "output_type": "stream",
     "text": [
      "j = 3\n"
     ]
    },
    {
     "name": "stdout",
     "output_type": "stream",
     "text": [
      "[1] 3\n"
     ]
    },
    {
     "name": "stderr",
     "output_type": "stream",
     "text": [
      "j = 4\n"
     ]
    },
    {
     "name": "stdout",
     "output_type": "stream",
     "text": [
      "[1] 4\n"
     ]
    }
   ],
   "source": [
    "nIteration = 2000\n",
    "outSample = 1000\n",
    "seed0 = 12345\n",
    "mTADAresults <- mTADA(geneName = data[, 1],\n",
    "                  ntrio1 = ntrio1,\n",
    "                  ntrio2 = ntrio2,\n",
    "                  p1 = p1,\n",
    "                  p2 = p2,\n",
    "                  dataDN1 = data.frame(dataT1),\n",
    "                  dataDN2 = data.frame(dataT2),\n",
    "                  mutRate1 = data.frame(muDataT1),\n",
    "                  mutRate2 = data.frame(muDataT2),                  \n",
    "                  hyperGammaMeanDN1 = c(meanGamma1),\n",
    "                  hyperGammaMeanDN2 = c(meanGamma2),\n",
    "                  hyperBetaDN01 = beta1, #NULL, #array(c(1, 1)),\n",
    "                  hyperBetaDN02 = beta2, #NULL, #array(c(1, 1)),\n",
    "                  nIteration = nIteration,\n",
    "                  useMCMC = FALSE,\n",
    "###The parameters below should be default\n",
    "                  outSample = outSample,\n",
    "                       adjustHyperBeta = 0, #adjustHyperBeta0,\n",
    "                        betaPars = c(6.7771073, -1.7950864, -0.2168248),\n",
    "                        upperPi0 = 0.5, lowerPi0 = 0,\n",
    "                        lowerHyperGamma = 1,\n",
    "                        lowerGamma = 1,\n",
    "                        lowerBeta = 1,\n",
    "                  nChain = 1, iSeed = seed0)\n",
    "\n",
    "\n"
   ]
  },
  {
   "cell_type": "markdown",
   "metadata": {},
   "source": [
    "## Test results"
   ]
  },
  {
   "cell_type": "markdown",
   "metadata": {},
   "source": [
    "### The proportion of each model"
   ]
  },
  {
   "cell_type": "code",
   "execution_count": 4,
   "metadata": {
    "collapsed": false
   },
   "outputs": [
    {
     "data": {
      "text/html": [
       "<dl class=dl-horizontal>\n",
       "\t<dt>pNO</dt>\n",
       "\t\t<dd>0.92488835</dd>\n",
       "\t<dt>pFIRST</dt>\n",
       "\t\t<dd>0.03833364</dd>\n",
       "\t<dt>pSECOND</dt>\n",
       "\t\t<dd>0.01089761</dd>\n",
       "\t<dt>pBOTH</dt>\n",
       "\t\t<dd>0.0258804</dd>\n",
       "</dl>\n"
      ],
      "text/latex": [
       "\\begin{description*}\n",
       "\\item[pNO] 0.92488835\n",
       "\\item[pFIRST] 0.03833364\n",
       "\\item[pSECOND] 0.01089761\n",
       "\\item[pBOTH] 0.0258804\n",
       "\\end{description*}\n"
      ],
      "text/markdown": [
       "pNO\n",
       ":   0.92488835pFIRST\n",
       ":   0.03833364pSECOND\n",
       ":   0.01089761pBOTH\n",
       ":   0.0258804\n",
       "\n"
      ],
      "text/plain": [
       "       pNO     pFIRST    pSECOND      pBOTH \n",
       "0.92488835 0.03833364 0.01089761 0.02588040 "
      ]
     },
     "metadata": {},
     "output_type": "display_data"
    }
   ],
   "source": [
    "mTADAresults$probModel\n"
   ]
  },
  {
   "cell_type": "markdown",
   "metadata": {
    "collapsed": true
   },
   "source": [
    "### Get full results for all genes"
   ]
  },
  {
   "cell_type": "code",
   "execution_count": 6,
   "metadata": {
    "collapsed": false
   },
   "outputs": [
    {
     "data": {
      "text/html": [
       "<table>\n",
       "<thead><tr><th></th><th scope=col>Mode</th><th scope=col>lCI</th><th scope=col>uCI</th></tr></thead>\n",
       "<tbody>\n",
       "\t<tr><th scope=row>p12</th><td>0.0258804</td><td>0.0207502</td><td>0.0305515</td></tr>\n",
       "\t<tr><th scope=row>gammaMeanDN1[1]</th><td>3.9377900</td><td>3.3443200</td><td>4.8067700</td></tr>\n",
       "</tbody>\n",
       "</table>\n"
      ],
      "text/latex": [
       "\\begin{tabular}{r|lll}\n",
       "  & Mode & lCI & uCI\\\\\n",
       "\\hline\n",
       "\tp12 & 0.0258804 & 0.0207502 & 0.0305515\\\\\n",
       "\tgammaMeanDN1{[}1{]} & 3.9377900 & 3.3443200 & 4.8067700\\\\\n",
       "\\end{tabular}\n"
      ],
      "text/markdown": [
       "\n",
       "| <!--/--> | Mode | lCI | uCI | \n",
       "|---|---|\n",
       "| p12 | 0.0258804 | 0.0207502 | 0.0305515 | \n",
       "| gammaMeanDN1[1] | 3.9377900 | 3.3443200 | 4.8067700 | \n",
       "\n",
       "\n"
      ],
      "text/plain": [
       "                Mode      lCI       uCI      \n",
       "p12             0.0258804 0.0207502 0.0305515\n",
       "gammaMeanDN1[1] 3.9377900 3.3443200 4.8067700"
      ]
     },
     "metadata": {},
     "output_type": "display_data"
    },
    {
     "data": {
      "text/html": [
       "<table>\n",
       "<thead><tr><th scope=col>geneName</th><th scope=col>dn_damaging_ASD</th><th scope=col>dn_lof_ASD</th><th scope=col>dn_damaging_DD</th><th scope=col>dn_lof_DD</th><th scope=col>NO</th><th scope=col>BOTH</th><th scope=col>FIRST</th><th scope=col>SECOND</th></tr></thead>\n",
       "<tbody>\n",
       "\t<tr><td>A1BG        </td><td>0           </td><td>0           </td><td>0           </td><td>0           </td><td>0.9427816   </td><td>0.015218928 </td><td>0.03480485  </td><td>0.0071945958</td></tr>\n",
       "\t<tr><td>A1BG-AS1    </td><td>0           </td><td>0           </td><td>0           </td><td>0           </td><td>0.9264611   </td><td>0.024867378 </td><td>0.03812532  </td><td>0.0105461693</td></tr>\n",
       "\t<tr><td>A1CF        </td><td>0           </td><td>0           </td><td>0           </td><td>0           </td><td>0.9736088   </td><td>0.002221771 </td><td>0.02249085  </td><td>0.0016785292</td></tr>\n",
       "\t<tr><td>A2M         </td><td>0           </td><td>0           </td><td>0           </td><td>0           </td><td>0.9883723   </td><td>0.000118157 </td><td>0.01132969  </td><td>0.0001798924</td></tr>\n",
       "\t<tr><td>A2M-AS1     </td><td>0           </td><td>0           </td><td>0           </td><td>0           </td><td>0.9259078   </td><td>0.025222951 </td><td>0.03819939  </td><td>0.0106698469</td></tr>\n",
       "\t<tr><td>A2ML1       </td><td>1           </td><td>0           </td><td>0           </td><td>0           </td><td>0.7315996   </td><td>0.020378160 </td><td>0.24696875  </td><td>0.0010535312</td></tr>\n",
       "</tbody>\n",
       "</table>\n"
      ],
      "text/latex": [
       "\\begin{tabular}{r|lllllllll}\n",
       " geneName & dn\\_damaging\\_ASD & dn\\_lof\\_ASD & dn\\_damaging\\_DD & dn\\_lof\\_DD & NO & BOTH & FIRST & SECOND\\\\\n",
       "\\hline\n",
       "\t A1BG         & 0            & 0            & 0            & 0            & 0.9427816    & 0.015218928  & 0.03480485   & 0.0071945958\\\\\n",
       "\t A1BG-AS1     & 0            & 0            & 0            & 0            & 0.9264611    & 0.024867378  & 0.03812532   & 0.0105461693\\\\\n",
       "\t A1CF         & 0            & 0            & 0            & 0            & 0.9736088    & 0.002221771  & 0.02249085   & 0.0016785292\\\\\n",
       "\t A2M          & 0            & 0            & 0            & 0            & 0.9883723    & 0.000118157  & 0.01132969   & 0.0001798924\\\\\n",
       "\t A2M-AS1      & 0            & 0            & 0            & 0            & 0.9259078    & 0.025222951  & 0.03819939   & 0.0106698469\\\\\n",
       "\t A2ML1        & 1            & 0            & 0            & 0            & 0.7315996    & 0.020378160  & 0.24696875   & 0.0010535312\\\\\n",
       "\\end{tabular}\n"
      ],
      "text/markdown": [
       "\n",
       "geneName | dn_damaging_ASD | dn_lof_ASD | dn_damaging_DD | dn_lof_DD | NO | BOTH | FIRST | SECOND | \n",
       "|---|---|---|---|---|---|\n",
       "| A1BG         | 0            | 0            | 0            | 0            | 0.9427816    | 0.015218928  | 0.03480485   | 0.0071945958 | \n",
       "| A1BG-AS1     | 0            | 0            | 0            | 0            | 0.9264611    | 0.024867378  | 0.03812532   | 0.0105461693 | \n",
       "| A1CF         | 0            | 0            | 0            | 0            | 0.9736088    | 0.002221771  | 0.02249085   | 0.0016785292 | \n",
       "| A2M          | 0            | 0            | 0            | 0            | 0.9883723    | 0.000118157  | 0.01132969   | 0.0001798924 | \n",
       "| A2M-AS1      | 0            | 0            | 0            | 0            | 0.9259078    | 0.025222951  | 0.03819939   | 0.0106698469 | \n",
       "| A2ML1        | 1            | 0            | 0            | 0            | 0.7315996    | 0.020378160  | 0.24696875   | 0.0010535312 | \n",
       "\n",
       "\n"
      ],
      "text/plain": [
       "  geneName dn_damaging_ASD dn_lof_ASD dn_damaging_DD dn_lof_DD NO       \n",
       "1 A1BG     0               0          0              0         0.9427816\n",
       "2 A1BG-AS1 0               0          0              0         0.9264611\n",
       "3 A1CF     0               0          0              0         0.9736088\n",
       "4 A2M      0               0          0              0         0.9883723\n",
       "5 A2M-AS1  0               0          0              0         0.9259078\n",
       "6 A2ML1    1               0          0              0         0.7315996\n",
       "  BOTH        FIRST      SECOND      \n",
       "1 0.015218928 0.03480485 0.0071945958\n",
       "2 0.024867378 0.03812532 0.0105461693\n",
       "3 0.002221771 0.02249085 0.0016785292\n",
       "4 0.000118157 0.01132969 0.0001798924\n",
       "5 0.025222951 0.03819939 0.0106698469\n",
       "6 0.020378160 0.24696875 0.0010535312"
      ]
     },
     "metadata": {},
     "output_type": "display_data"
    }
   ],
   "source": [
    "head(mTADAresults$pars) ##Full parameters: p12 is the proportion of overlapping genes\n",
    "outData <- mTADAresults$data\n",
    "head(outData) ## This will show genes and their posterior probabilities (PP) for each model\n"
   ]
  },
  {
   "cell_type": "code",
   "execution_count": null,
   "metadata": {
    "collapsed": true
   },
   "outputs": [],
   "source": []
  },
  {
   "cell_type": "markdown",
   "metadata": {
    "collapsed": true
   },
   "source": [
    "### Take a look at some genes that have high PPs each model"
   ]
  },
  {
   "cell_type": "code",
   "execution_count": 7,
   "metadata": {
    "collapsed": false
   },
   "outputs": [
    {
     "data": {
      "text/html": [
       "<table>\n",
       "<thead><tr><th></th><th scope=col>geneName</th><th scope=col>dn_damaging_ASD</th><th scope=col>dn_lof_ASD</th><th scope=col>dn_damaging_DD</th><th scope=col>dn_lof_DD</th><th scope=col>NO</th><th scope=col>BOTH</th><th scope=col>FIRST</th><th scope=col>SECOND</th></tr></thead>\n",
       "<tbody>\n",
       "\t<tr><th scope=row>347</th><td>ADNP        </td><td>0           </td><td>5           </td><td>1           </td><td>19          </td><td>2.711705e-34</td><td>0.9999747   </td><td>1.871526e-31</td><td>2.528637e-05</td></tr>\n",
       "\t<tr><th scope=row>447</th><td>AHDC1       </td><td>0           </td><td>1           </td><td>0           </td><td> 8          </td><td>1.083877e-11</td><td>0.9235181   </td><td>2.284114e-12</td><td>7.648190e-02</td></tr>\n",
       "\t<tr><th scope=row>681</th><td>ANKRD11     </td><td>0           </td><td>2           </td><td>0           </td><td>32          </td><td>1.863055e-49</td><td>0.9369696   </td><td>4.833391e-50</td><td>6.303042e-02</td></tr>\n",
       "\t<tr><th scope=row>1001</th><td>ARID1B      </td><td>0           </td><td>7           </td><td>0           </td><td>30          </td><td>3.739192e-51</td><td>0.9999992   </td><td>8.530963e-47</td><td>7.649453e-07</td></tr>\n",
       "\t<tr><th scope=row>1002</th><td>ARID2       </td><td>1           </td><td>0           </td><td>0           </td><td> 3          </td><td>3.990349e-03</td><td>0.9307097   </td><td>1.008140e-03</td><td>6.429179e-02</td></tr>\n",
       "\t<tr><th scope=row>1124</th><td>ASH1L       </td><td>0           </td><td>3           </td><td>0           </td><td> 2          </td><td>4.536432e-02</td><td>0.8148009   </td><td>1.350584e-01</td><td>4.776340e-03</td></tr>\n",
       "</tbody>\n",
       "</table>\n"
      ],
      "text/latex": [
       "\\begin{tabular}{r|lllllllll}\n",
       "  & geneName & dn\\_damaging\\_ASD & dn\\_lof\\_ASD & dn\\_damaging\\_DD & dn\\_lof\\_DD & NO & BOTH & FIRST & SECOND\\\\\n",
       "\\hline\n",
       "\t347 & ADNP         & 0            & 5            & 1            & 19           & 2.711705e-34 & 0.9999747    & 1.871526e-31 & 2.528637e-05\\\\\n",
       "\t447 & AHDC1        & 0            & 1            & 0            &  8           & 1.083877e-11 & 0.9235181    & 2.284114e-12 & 7.648190e-02\\\\\n",
       "\t681 & ANKRD11      & 0            & 2            & 0            & 32           & 1.863055e-49 & 0.9369696    & 4.833391e-50 & 6.303042e-02\\\\\n",
       "\t1001 & ARID1B       & 0            & 7            & 0            & 30           & 3.739192e-51 & 0.9999992    & 8.530963e-47 & 7.649453e-07\\\\\n",
       "\t1002 & ARID2        & 1            & 0            & 0            &  3           & 3.990349e-03 & 0.9307097    & 1.008140e-03 & 6.429179e-02\\\\\n",
       "\t1124 & ASH1L        & 0            & 3            & 0            &  2           & 4.536432e-02 & 0.8148009    & 1.350584e-01 & 4.776340e-03\\\\\n",
       "\\end{tabular}\n"
      ],
      "text/markdown": [
       "\n",
       "| <!--/--> | geneName | dn_damaging_ASD | dn_lof_ASD | dn_damaging_DD | dn_lof_DD | NO | BOTH | FIRST | SECOND | \n",
       "|---|---|---|---|---|---|\n",
       "| 347 | ADNP         | 0            | 5            | 1            | 19           | 2.711705e-34 | 0.9999747    | 1.871526e-31 | 2.528637e-05 | \n",
       "| 447 | AHDC1        | 0            | 1            | 0            |  8           | 1.083877e-11 | 0.9235181    | 2.284114e-12 | 7.648190e-02 | \n",
       "| 681 | ANKRD11      | 0            | 2            | 0            | 32           | 1.863055e-49 | 0.9369696    | 4.833391e-50 | 6.303042e-02 | \n",
       "| 1001 | ARID1B       | 0            | 7            | 0            | 30           | 3.739192e-51 | 0.9999992    | 8.530963e-47 | 7.649453e-07 | \n",
       "| 1002 | ARID2        | 1            | 0            | 0            |  3           | 3.990349e-03 | 0.9307097    | 1.008140e-03 | 6.429179e-02 | \n",
       "| 1124 | ASH1L        | 0            | 3            | 0            |  2           | 4.536432e-02 | 0.8148009    | 1.350584e-01 | 4.776340e-03 | \n",
       "\n",
       "\n"
      ],
      "text/plain": [
       "     geneName dn_damaging_ASD dn_lof_ASD dn_damaging_DD dn_lof_DD NO          \n",
       "347  ADNP     0               5          1              19        2.711705e-34\n",
       "447  AHDC1    0               1          0               8        1.083877e-11\n",
       "681  ANKRD11  0               2          0              32        1.863055e-49\n",
       "1001 ARID1B   0               7          0              30        3.739192e-51\n",
       "1002 ARID2    1               0          0               3        3.990349e-03\n",
       "1124 ASH1L    0               3          0               2        4.536432e-02\n",
       "     BOTH      FIRST        SECOND      \n",
       "347  0.9999747 1.871526e-31 2.528637e-05\n",
       "447  0.9235181 2.284114e-12 7.648190e-02\n",
       "681  0.9369696 4.833391e-50 6.303042e-02\n",
       "1001 0.9999992 8.530963e-47 7.649453e-07\n",
       "1002 0.9307097 1.008140e-03 6.429179e-02\n",
       "1124 0.8148009 1.350584e-01 4.776340e-03"
      ]
     },
     "metadata": {},
     "output_type": "display_data"
    }
   ],
   "source": [
    "head(outData[outData$BOTH > 0.8, ]) ## Genes with Model3'PPs > 0.8\n"
   ]
  },
  {
   "cell_type": "code",
   "execution_count": 8,
   "metadata": {
    "collapsed": false
   },
   "outputs": [
    {
     "data": {
      "text/html": [
       "<table>\n",
       "<thead><tr><th></th><th scope=col>geneName</th><th scope=col>dn_damaging_ASD</th><th scope=col>dn_lof_ASD</th><th scope=col>dn_damaging_DD</th><th scope=col>dn_lof_DD</th><th scope=col>NO</th><th scope=col>BOTH</th><th scope=col>FIRST</th><th scope=col>SECOND</th></tr></thead>\n",
       "<tbody>\n",
       "\t<tr><th scope=row>661</th><td>ANK2        </td><td>2           </td><td>4           </td><td>1           </td><td>0           </td><td>0.001727226 </td><td>0.0009357913</td><td>0.9973370   </td><td>2.828378e-08</td></tr>\n",
       "\t<tr><th scope=row>4733</th><td>DSCAM       </td><td>0           </td><td>4           </td><td>0           </td><td>0           </td><td>0.066076042 </td><td>0.0012822535</td><td>0.9326401   </td><td>1.585458e-06</td></tr>\n",
       "\t<tr><th scope=row>6482</th><td>GIGYF1      </td><td>0           </td><td>3           </td><td>0           </td><td>0           </td><td>0.163373537 </td><td>0.0285959965</td><td>0.8079295   </td><td>1.009170e-04</td></tr>\n",
       "\t<tr><th scope=row>8338</th><td>KDM6B       </td><td>1           </td><td>2           </td><td>0           </td><td>0           </td><td>0.157975633 </td><td>0.0059591142</td><td>0.8360456   </td><td>1.965137e-05</td></tr>\n",
       "\t<tr><th scope=row>11278</th><td>NRXN1       </td><td>1           </td><td>3           </td><td>0           </td><td>0           </td><td>0.029297292 </td><td>0.0039752800</td><td>0.9667253   </td><td>2.102535e-06</td></tr>\n",
       "\t<tr><th scope=row>11988</th><td>P4HA2       </td><td>3           </td><td>0           </td><td>0           </td><td>0           </td><td>0.017923312 </td><td>0.0267594049</td><td>0.9553085   </td><td>8.761977e-06</td></tr>\n",
       "</tbody>\n",
       "</table>\n"
      ],
      "text/latex": [
       "\\begin{tabular}{r|lllllllll}\n",
       "  & geneName & dn\\_damaging\\_ASD & dn\\_lof\\_ASD & dn\\_damaging\\_DD & dn\\_lof\\_DD & NO & BOTH & FIRST & SECOND\\\\\n",
       "\\hline\n",
       "\t661 & ANK2         & 2            & 4            & 1            & 0            & 0.001727226  & 0.0009357913 & 0.9973370    & 2.828378e-08\\\\\n",
       "\t4733 & DSCAM        & 0            & 4            & 0            & 0            & 0.066076042  & 0.0012822535 & 0.9326401    & 1.585458e-06\\\\\n",
       "\t6482 & GIGYF1       & 0            & 3            & 0            & 0            & 0.163373537  & 0.0285959965 & 0.8079295    & 1.009170e-04\\\\\n",
       "\t8338 & KDM6B        & 1            & 2            & 0            & 0            & 0.157975633  & 0.0059591142 & 0.8360456    & 1.965137e-05\\\\\n",
       "\t11278 & NRXN1        & 1            & 3            & 0            & 0            & 0.029297292  & 0.0039752800 & 0.9667253    & 2.102535e-06\\\\\n",
       "\t11988 & P4HA2        & 3            & 0            & 0            & 0            & 0.017923312  & 0.0267594049 & 0.9553085    & 8.761977e-06\\\\\n",
       "\\end{tabular}\n"
      ],
      "text/markdown": [
       "\n",
       "| <!--/--> | geneName | dn_damaging_ASD | dn_lof_ASD | dn_damaging_DD | dn_lof_DD | NO | BOTH | FIRST | SECOND | \n",
       "|---|---|---|---|---|---|\n",
       "| 661 | ANK2         | 2            | 4            | 1            | 0            | 0.001727226  | 0.0009357913 | 0.9973370    | 2.828378e-08 | \n",
       "| 4733 | DSCAM        | 0            | 4            | 0            | 0            | 0.066076042  | 0.0012822535 | 0.9326401    | 1.585458e-06 | \n",
       "| 6482 | GIGYF1       | 0            | 3            | 0            | 0            | 0.163373537  | 0.0285959965 | 0.8079295    | 1.009170e-04 | \n",
       "| 8338 | KDM6B        | 1            | 2            | 0            | 0            | 0.157975633  | 0.0059591142 | 0.8360456    | 1.965137e-05 | \n",
       "| 11278 | NRXN1        | 1            | 3            | 0            | 0            | 0.029297292  | 0.0039752800 | 0.9667253    | 2.102535e-06 | \n",
       "| 11988 | P4HA2        | 3            | 0            | 0            | 0            | 0.017923312  | 0.0267594049 | 0.9553085    | 8.761977e-06 | \n",
       "\n",
       "\n"
      ],
      "text/plain": [
       "      geneName dn_damaging_ASD dn_lof_ASD dn_damaging_DD dn_lof_DD NO         \n",
       "661   ANK2     2               4          1              0         0.001727226\n",
       "4733  DSCAM    0               4          0              0         0.066076042\n",
       "6482  GIGYF1   0               3          0              0         0.163373537\n",
       "8338  KDM6B    1               2          0              0         0.157975633\n",
       "11278 NRXN1    1               3          0              0         0.029297292\n",
       "11988 P4HA2    3               0          0              0         0.017923312\n",
       "      BOTH         FIRST     SECOND      \n",
       "661   0.0009357913 0.9973370 2.828378e-08\n",
       "4733  0.0012822535 0.9326401 1.585458e-06\n",
       "6482  0.0285959965 0.8079295 1.009170e-04\n",
       "8338  0.0059591142 0.8360456 1.965137e-05\n",
       "11278 0.0039752800 0.9667253 2.102535e-06\n",
       "11988 0.0267594049 0.9553085 8.761977e-06"
      ]
     },
     "metadata": {},
     "output_type": "display_data"
    }
   ],
   "source": [
    "head(outData[outData$FIRST > 0.8, ]) ## Genes with Model2'PPs > 0.8"
   ]
  },
  {
   "cell_type": "code",
   "execution_count": 9,
   "metadata": {
    "collapsed": false
   },
   "outputs": [
    {
     "data": {
      "text/html": [
       "<table>\n",
       "<thead><tr><th></th><th scope=col>geneName</th><th scope=col>dn_damaging_ASD</th><th scope=col>dn_lof_ASD</th><th scope=col>dn_damaging_DD</th><th scope=col>dn_lof_DD</th><th scope=col>NO</th><th scope=col>BOTH</th><th scope=col>FIRST</th><th scope=col>SECOND</th></tr></thead>\n",
       "<tbody>\n",
       "\t<tr><th scope=row>2348</th><td>CACNA1A     </td><td>0           </td><td>0           </td><td>5           </td><td> 0          </td><td>1.170972e-02</td><td>0.08914600  </td><td>2.026189e-05</td><td>0.8991240   </td></tr>\n",
       "\t<tr><th scope=row>3203</th><td>CHD4        </td><td>0           </td><td>0           </td><td>5           </td><td> 1          </td><td>9.925497e-04</td><td>0.06984952  </td><td>1.302200e-06</td><td>0.9291566   </td></tr>\n",
       "\t<tr><th scope=row>3457</th><td>CLTC        </td><td>0           </td><td>0           </td><td>2           </td><td> 3          </td><td>3.942320e-03</td><td>0.15942499  </td><td>1.311086e-05</td><td>0.8366196   </td></tr>\n",
       "\t<tr><th scope=row>5157</th><td>EP300       </td><td>0           </td><td>0           </td><td>3           </td><td>12          </td><td>1.509348e-18</td><td>0.16494357  </td><td>5.203073e-21</td><td>0.8350564   </td></tr>\n",
       "\t<tr><th scope=row>14681</th><td>SCN8A       </td><td>0           </td><td>0           </td><td>6           </td><td> 0          </td><td>8.034214e-04</td><td>0.06295711  </td><td>9.428720e-07</td><td>0.9362385   </td></tr>\n",
       "\t<tr><th scope=row>15546</th><td>SMARCA2     </td><td>0           </td><td>0           </td><td>9           </td><td> 0          </td><td>2.257614e-10</td><td>0.14911233  </td><td>6.904657e-13</td><td>0.8508877   </td></tr>\n",
       "</tbody>\n",
       "</table>\n"
      ],
      "text/latex": [
       "\\begin{tabular}{r|lllllllll}\n",
       "  & geneName & dn\\_damaging\\_ASD & dn\\_lof\\_ASD & dn\\_damaging\\_DD & dn\\_lof\\_DD & NO & BOTH & FIRST & SECOND\\\\\n",
       "\\hline\n",
       "\t2348 & CACNA1A      & 0            & 0            & 5            &  0           & 1.170972e-02 & 0.08914600   & 2.026189e-05 & 0.8991240   \\\\\n",
       "\t3203 & CHD4         & 0            & 0            & 5            &  1           & 9.925497e-04 & 0.06984952   & 1.302200e-06 & 0.9291566   \\\\\n",
       "\t3457 & CLTC         & 0            & 0            & 2            &  3           & 3.942320e-03 & 0.15942499   & 1.311086e-05 & 0.8366196   \\\\\n",
       "\t5157 & EP300        & 0            & 0            & 3            & 12           & 1.509348e-18 & 0.16494357   & 5.203073e-21 & 0.8350564   \\\\\n",
       "\t14681 & SCN8A        & 0            & 0            & 6            &  0           & 8.034214e-04 & 0.06295711   & 9.428720e-07 & 0.9362385   \\\\\n",
       "\t15546 & SMARCA2      & 0            & 0            & 9            &  0           & 2.257614e-10 & 0.14911233   & 6.904657e-13 & 0.8508877   \\\\\n",
       "\\end{tabular}\n"
      ],
      "text/markdown": [
       "\n",
       "| <!--/--> | geneName | dn_damaging_ASD | dn_lof_ASD | dn_damaging_DD | dn_lof_DD | NO | BOTH | FIRST | SECOND | \n",
       "|---|---|---|---|---|---|\n",
       "| 2348 | CACNA1A      | 0            | 0            | 5            |  0           | 1.170972e-02 | 0.08914600   | 2.026189e-05 | 0.8991240    | \n",
       "| 3203 | CHD4         | 0            | 0            | 5            |  1           | 9.925497e-04 | 0.06984952   | 1.302200e-06 | 0.9291566    | \n",
       "| 3457 | CLTC         | 0            | 0            | 2            |  3           | 3.942320e-03 | 0.15942499   | 1.311086e-05 | 0.8366196    | \n",
       "| 5157 | EP300        | 0            | 0            | 3            | 12           | 1.509348e-18 | 0.16494357   | 5.203073e-21 | 0.8350564    | \n",
       "| 14681 | SCN8A        | 0            | 0            | 6            |  0           | 8.034214e-04 | 0.06295711   | 9.428720e-07 | 0.9362385    | \n",
       "| 15546 | SMARCA2      | 0            | 0            | 9            |  0           | 2.257614e-10 | 0.14911233   | 6.904657e-13 | 0.8508877    | \n",
       "\n",
       "\n"
      ],
      "text/plain": [
       "      geneName dn_damaging_ASD dn_lof_ASD dn_damaging_DD dn_lof_DD NO          \n",
       "2348  CACNA1A  0               0          5               0        1.170972e-02\n",
       "3203  CHD4     0               0          5               1        9.925497e-04\n",
       "3457  CLTC     0               0          2               3        3.942320e-03\n",
       "5157  EP300    0               0          3              12        1.509348e-18\n",
       "14681 SCN8A    0               0          6               0        8.034214e-04\n",
       "15546 SMARCA2  0               0          9               0        2.257614e-10\n",
       "      BOTH       FIRST        SECOND   \n",
       "2348  0.08914600 2.026189e-05 0.8991240\n",
       "3203  0.06984952 1.302200e-06 0.9291566\n",
       "3457  0.15942499 1.311086e-05 0.8366196\n",
       "5157  0.16494357 5.203073e-21 0.8350564\n",
       "14681 0.06295711 9.428720e-07 0.9362385\n",
       "15546 0.14911233 6.904657e-13 0.8508877"
      ]
     },
     "metadata": {},
     "output_type": "display_data"
    }
   ],
   "source": [
    "head(outData[outData$SECOND > 0.8, ]) ## Genes with Model2'PPs > 0.8)"
   ]
  },
  {
   "cell_type": "code",
   "execution_count": null,
   "metadata": {
    "collapsed": true
   },
   "outputs": [],
   "source": []
  }
 ],
 "metadata": {
  "anaconda-cloud": {},
  "kernelspec": {
   "display_name": "R",
   "language": "R",
   "name": "ir"
  },
  "language_info": {
   "codemirror_mode": "r",
   "file_extension": ".r",
   "mimetype": "text/x-r-source",
   "name": "R",
   "pygments_lexer": "r",
   "version": "3.3.2"
  }
 },
 "nbformat": 4,
 "nbformat_minor": 1
}
